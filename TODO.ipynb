{
 "cells": [
  {
   "cell_type": "markdown",
   "metadata": {},
   "source": [
    "# TODO List\n",
    "\n",
    "## Escritura\n",
    "\n",
    "- Revisar resumen\n",
    "- Revisar intro\n",
    "- Revisar mt y sota\n",
    "- Empezar resultados\n",
    "\n",
    "## Estadistica\n",
    "\n",
    "- Proxíma reu con TK\n",
    "\n",
    "## NISQA\n",
    "\n",
    "- Probar cualitativamente, con audios muy buenos y muy rotos. HECHO\n",
    "- Probar si sumando ruido baja el score HECHO\n",
    "    - Demostrar que el score no es aleatorio\n",
    "\n",
    "## Embeddings\n",
    "\n",
    "- Mapa 2D, colour=score/sistema\n",
    "- Los puntos en 2D se obtienen a partir de una reducción de dimensionalidad. Sikit learn tiene UMAP, PSA, t-sne.\n",
    "- Promediar el score de cada audio con los 5 vecinos más cercanos. Se puede escalar ese suavizado, haciendo que mientras más lejos menos pese en el promedio\n",
    "- Embeddings a usar: wav2vec, el de dani? encodecMAE\n"
   ]
  },
  {
   "cell_type": "code",
   "execution_count": 20,
   "metadata": {},
   "outputs": [
    {
     "name": "stdout",
     "output_type": "stream",
     "text": [
      "The average MOS is: 4.8630922820833\n"
     ]
    }
   ],
   "source": [
    "# read NISQA_results.csv with pandas\n",
    "\n",
    "import pandas as pd\n",
    "\n",
    "# read the csv file\n",
    "df = pd.read_csv('NISQA_results_es_ar.csv')\n",
    "\n",
    "# take the average of the mos_pred column\n",
    "mos_avg = df['mos_pred'].mean()\n",
    "print('The average MOS is:', mos_avg)"
   ]
  },
  {
   "cell_type": "code",
   "execution_count": 21,
   "metadata": {},
   "outputs": [
    {
     "name": "stdout",
     "output_type": "stream",
     "text": [
      "The average MOS is: 2.0508819500605266\n"
     ]
    }
   ],
   "source": [
    "# read NISQA_results.csv with pandas\n",
    "#hi\n",
    "import pandas as pd\n",
    "\n",
    "# read the csv file\n",
    "df = pd.read_csv('NISQA_results_es_ar_noisy.csv')\n",
    "\n",
    "# take the average of the mos_pred column\n",
    "mos_avg = df['mos_pred'].mean()\n",
    "print('The average MOS is:', mos_avg)"
   ]
  },
  {
   "cell_type": "code",
   "execution_count": 23,
   "metadata": {},
   "outputs": [
    {
     "name": "stdout",
     "output_type": "stream",
     "text": [
      "The average MOS is: 2.0567157679133947\n"
     ]
    }
   ],
   "source": [
    "# read NISQA_results.csv with pandas\n",
    "\n",
    "import pandas as pd\n",
    "\n",
    "# read the csv file\n",
    "df = pd.read_csv('NISQA_results_es_ar_2.0.csv')\n",
    "\n",
    "# take the average of the mos_pred column\n",
    "mos_avg = df['mos_pred'].mean()\n",
    "print('The average MOS is:', mos_avg)"
   ]
  },
  {
   "cell_type": "code",
   "execution_count": 22,
   "metadata": {},
   "outputs": [
    {
     "name": "stdout",
     "output_type": "stream",
     "text": [
      "Noise added to all WAV files in the directory.\n"
     ]
    }
   ],
   "source": [
    "import os\n",
    "import numpy as np\n",
    "import wave\n",
    "\n",
    "# Function to add Gaussian noise to a WAV file\n",
    "def add_noise_to_wav(file_path, output_path, noise_level=0.2):\n",
    "    with wave.open(file_path, 'rb') as wav_file:\n",
    "        params = wav_file.getparams()\n",
    "        frames = wav_file.readframes(-1)\n",
    "        frames = np.frombuffer(frames, dtype=np.int16)\n",
    "        \n",
    "        # Generate Gaussian noise with the same length as the audio file\n",
    "        noise = np.random.normal(0, noise_level * np.max(frames), len(frames))\n",
    "        \n",
    "        # Add noise to the audio signal\n",
    "        noisy_frames = frames + noise\n",
    "        \n",
    "        # Ensure that the audio signal is within the valid range\n",
    "        noisy_frames = np.clip(noisy_frames, -32768, 32767)\n",
    "        \n",
    "        # Convert the noisy frames back to bytes\n",
    "        noisy_frames = noisy_frames.astype(np.int16)\n",
    "        noisy_frames = noisy_frames.tobytes()\n",
    "        \n",
    "        # Write the noisy frames to a new WAV file\n",
    "        with wave.open(output_path, 'wb') as output_wav:\n",
    "            output_wav.setparams(params)\n",
    "            output_wav.writeframes(noisy_frames)\n",
    "\n",
    "# Directory containing the WAV files\n",
    "input_dir = \"weather/es-ar\"\n",
    "# Directory to save the noisy WAV files\n",
    "output_dir = \"weather/es-ar-0.2\"\n",
    "# Noise level (adjust as needed)\n",
    "noise_level = 0.1\n",
    "\n",
    "# Iterate over all WAV files in the input directory\n",
    "for file_name in os.listdir(input_dir):\n",
    "    if file_name.endswith(\".wav\"):\n",
    "        input_path = os.path.join(input_dir, file_name)\n",
    "        output_path = os.path.join(output_dir, file_name)\n",
    "        add_noise_to_wav(input_path, output_path, noise_level)\n",
    "\n",
    "print(\"Noise added to all WAV files in the directory.\")\n"
   ]
  }
 ],
 "metadata": {
  "kernelspec": {
   "display_name": "base",
   "language": "python",
   "name": "python3"
  },
  "language_info": {
   "codemirror_mode": {
    "name": "ipython",
    "version": 3
   },
   "file_extension": ".py",
   "mimetype": "text/x-python",
   "name": "python",
   "nbconvert_exporter": "python",
   "pygments_lexer": "ipython3",
   "version": "3.9.15"
  }
 },
 "nbformat": 4,
 "nbformat_minor": 2
}
