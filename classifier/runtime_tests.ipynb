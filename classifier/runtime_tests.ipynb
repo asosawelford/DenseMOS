{
 "cells": [
  {
   "cell_type": "markdown",
   "metadata": {},
   "source": [
    "# DENSEMOS TIME"
   ]
  },
  {
   "cell_type": "code",
   "execution_count": 2,
   "metadata": {},
   "outputs": [
    {
     "name": "stdout",
     "output_type": "stream",
     "text": [
      "Average time to analyze audio with DenseMOS: 0.035518081164827534 seconds\n",
      "Average time to analyze audio with NISQA Finetuned: 0.04946892109571719 seconds\n"
     ]
    }
   ],
   "source": [
    "audios_analyzed = 408\n",
    "\n",
    "# DenseMOS\n",
    "upstream_time = 14.376474618911743\n",
    "downstream_time = 0.11490249633789062\n",
    "\n",
    "#NISQA Finetuned\n",
    "nisqa_time = 20.183319807052612\n",
    "print(\"Average time to analyze audio with DenseMOS: \" + str((upstream_time+downstream_time)/audios_analyzed) + \" seconds\")\n",
    "print(\"Average time to analyze audio with NISQA Finetuned: \" + str(nisqa_time/audios_analyzed) + \" seconds\")\n"
   ]
  }
 ],
 "metadata": {
  "kernelspec": {
   "display_name": ".env",
   "language": "python",
   "name": "python3"
  },
  "language_info": {
   "codemirror_mode": {
    "name": "ipython",
    "version": 3
   },
   "file_extension": ".py",
   "mimetype": "text/x-python",
   "name": "python",
   "nbconvert_exporter": "python",
   "pygments_lexer": "ipython3",
   "version": "3.12.3"
  }
 },
 "nbformat": 4,
 "nbformat_minor": 2
}
