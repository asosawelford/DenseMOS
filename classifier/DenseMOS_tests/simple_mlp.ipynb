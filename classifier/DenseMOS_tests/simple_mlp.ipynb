{
 "cells": [
  {
   "cell_type": "markdown",
   "metadata": {},
   "source": [
    "# MOS score prediction from wav2vec2 embeddings\n",
    "\n",
    "* calculate wav2vec2 embeddings for test and train datasets\n",
    "* create MOSDataset, containing wav2vec2 embeddings and subjective MOS scores\n",
    "* define a simple neural network to predict MOS scores from wav2vec2 embeddings\n",
    "* train the neural network and save the model\n",
    "* evaluate the model\n",
    "* repeat the process for different wav2vec2 models? other embeddings? use embeddings from different layers? need another 8 months to finish this notebook"
   ]
  },
  {
   "cell_type": "code",
   "execution_count": 1,
   "metadata": {},
   "outputs": [
    {
     "name": "stderr",
     "output_type": "stream",
     "text": [
      "/home/aleph/tesis/.env/lib/python3.12/site-packages/tqdm/auto.py:21: TqdmWarning: IProgress not found. Please update jupyter and ipywidgets. See https://ipywidgets.readthedocs.io/en/stable/user_install.html\n",
      "  from .autonotebook import tqdm as notebook_tqdm\n"
     ]
    }
   ],
   "source": [
    "import os\n",
    "from tqdm.auto import tqdm\n",
    "import pandas as pd\n",
    "import numpy as np\n",
    "import matplotlib.pyplot as plt\n",
    "\n",
    "\n",
    "# wav2vec\n",
    "from transformers import Wav2Vec2FeatureExtractor, Wav2Vec2Model, Wav2Vec2Config\n",
    "import librosa\n",
    "\n",
    "# torch\n",
    "import torch\n",
    "import torch.nn as nn\n",
    "import torch.optim as optim\n",
    "from torch.utils.data import Dataset, DataLoader\n",
    "from torchsummary import summary\n",
    "device = torch.device('cuda' if torch.cuda.is_available() else 'cpu')\n"
   ]
  },
  {
   "cell_type": "markdown",
   "metadata": {},
   "source": [
    "# wav2vec2 embeddings extraction"
   ]
  },
  {
   "cell_type": "code",
   "execution_count": 2,
   "metadata": {},
   "outputs": [],
   "source": [
    "def wav2vec_embeddings(path_to_csv, model_name, output_dir):\n",
    "    \"\"\"Extracts embeddings from audio files given a specific Wav2Vec2 model.\n",
    "    Extracts all layers and stacks them together into a tensor. Then saves that tensor as a numpy array.\n",
    "    Expects csv file with a column named \"stimuli\" containing paths to audio files.\"\"\"\n",
    "\n",
    "    os.makedirs(output_dir, exist_ok=True)\n",
    "\n",
    "    config = Wav2Vec2Config.from_pretrained(model_name, output_hidden_states=True)\n",
    "    feature_extractor = Wav2Vec2FeatureExtractor.from_pretrained(model_name)\n",
    "    model = Wav2Vec2Model(config)\n",
    "    \n",
    "    #load data\n",
    "    metadata_df = pd.read_csv(path_to_csv)\n",
    "\n",
    "    # iterate over each path in \"stimuli\" column\n",
    "    for _, row in tqdm(metadata_df.iterrows()):\n",
    "        audio_file = row['stimuli']\n",
    "        input_audio, sample_rate = librosa.load(audio_file, sr=16000)\n",
    "        inputs = feature_extractor(input_audio, return_tensors=\"pt\", sampling_rate=sample_rate)\n",
    "        \n",
    "        with torch.no_grad():\n",
    "            outputs= model(**inputs)\n",
    "        \n",
    "        all_layer_embeddings = outputs.hidden_states\n",
    "\n",
    "        # Concatenate hidden states from all layers and take the mean across the sequence\n",
    "        # Skip the first layer --> output of the CNN layers with an added positional embedding\n",
    "        embeddings = torch.cat(all_layer_embeddings[, dim=0)\n",
    "        embeddings = embeddings.mean(dim=1)\n",
    "\n",
    "        # Save embeddings as numpy array\n",
    "        embeddings = embeddings.squeeze().detach().numpy()\n",
    "        file_name = os.path.basename(audio_file).split('.')[0]\n",
    "\n",
    "        np.save(os.path.join(output_dir, f\"{file_name}.npy\"), embeddings)"
   ]
  },
  {
   "cell_type": "code",
   "execution_count": 9,
   "metadata": {},
   "outputs": [
    {
     "ename": "OSError",
     "evalue": "facebook/wav2vec2-base-960h does not appear to have a file named config.json. Checkout 'https://huggingface.co/facebook/wav2vec2-base-960h/tree/main' for available files.",
     "output_type": "error",
     "traceback": [
      "\u001b[0;31m---------------------------------------------------------------------------\u001b[0m",
      "\u001b[0;31mOSError\u001b[0m                                   Traceback (most recent call last)",
      "Cell \u001b[0;32mIn[9], line 5\u001b[0m\n\u001b[1;32m      3\u001b[0m model_name \u001b[38;5;241m=\u001b[39m \u001b[38;5;124m\"\u001b[39m\u001b[38;5;124mfacebook/wav2vec2-base-960h\u001b[39m\u001b[38;5;124m\"\u001b[39m\n\u001b[1;32m      4\u001b[0m path_to_dev_embeddings \u001b[38;5;241m=\u001b[39m \u001b[38;5;124m'\u001b[39m\u001b[38;5;124m/home/aleph/tesis/classifier/embeddings/dev\u001b[39m\u001b[38;5;124m'\u001b[39m\n\u001b[0;32m----> 5\u001b[0m \u001b[43mwav2vec_embeddings\u001b[49m\u001b[43m(\u001b[49m\u001b[43mpath_to_train_csv\u001b[49m\u001b[43m,\u001b[49m\u001b[43m \u001b[49m\u001b[43mmodel_name\u001b[49m\u001b[43m,\u001b[49m\u001b[43m \u001b[49m\u001b[43mpath_to_dev_embeddings\u001b[49m\u001b[43m)\u001b[49m\n",
      "Cell \u001b[0;32mIn[2], line 8\u001b[0m, in \u001b[0;36mwav2vec_embeddings\u001b[0;34m(path_to_csv, model_name, output_dir)\u001b[0m\n\u001b[1;32m      2\u001b[0m \u001b[38;5;250m\u001b[39m\u001b[38;5;124;03m\"\"\"Extracts embeddings from audio files given a specific Wav2Vec2 model.\u001b[39;00m\n\u001b[1;32m      3\u001b[0m \u001b[38;5;124;03mExtracts all layers and stacks them together into a tensor. Then saves that tensor as a numpy array.\u001b[39;00m\n\u001b[1;32m      4\u001b[0m \u001b[38;5;124;03mExpects csv file with a column named \"stimuli\" containing paths to audio files.\"\"\"\u001b[39;00m\n\u001b[1;32m      6\u001b[0m os\u001b[38;5;241m.\u001b[39mmakedirs(output_dir, exist_ok\u001b[38;5;241m=\u001b[39m\u001b[38;5;28;01mTrue\u001b[39;00m)\n\u001b[0;32m----> 8\u001b[0m config \u001b[38;5;241m=\u001b[39m \u001b[43mWav2Vec2Config\u001b[49m\u001b[38;5;241;43m.\u001b[39;49m\u001b[43mfrom_pretrained\u001b[49m\u001b[43m(\u001b[49m\u001b[43mmodel_name\u001b[49m\u001b[43m,\u001b[49m\u001b[43m \u001b[49m\u001b[43moutput_hidden_states\u001b[49m\u001b[38;5;241;43m=\u001b[39;49m\u001b[38;5;28;43;01mTrue\u001b[39;49;00m\u001b[43m)\u001b[49m\n\u001b[1;32m      9\u001b[0m feature_extractor \u001b[38;5;241m=\u001b[39m Wav2Vec2FeatureExtractor\u001b[38;5;241m.\u001b[39mfrom_pretrained(model_name)\n\u001b[1;32m     10\u001b[0m model \u001b[38;5;241m=\u001b[39m Wav2Vec2Model(config)\n",
      "File \u001b[0;32m~/tesis/.env/lib/python3.12/site-packages/transformers/configuration_utils.py:602\u001b[0m, in \u001b[0;36mPretrainedConfig.from_pretrained\u001b[0;34m(cls, pretrained_model_name_or_path, cache_dir, force_download, local_files_only, token, revision, **kwargs)\u001b[0m\n\u001b[1;32m    598\u001b[0m kwargs[\u001b[38;5;124m\"\u001b[39m\u001b[38;5;124mrevision\u001b[39m\u001b[38;5;124m\"\u001b[39m] \u001b[38;5;241m=\u001b[39m revision\n\u001b[1;32m    600\u001b[0m \u001b[38;5;28mcls\u001b[39m\u001b[38;5;241m.\u001b[39m_set_token_in_kwargs(kwargs, token)\n\u001b[0;32m--> 602\u001b[0m config_dict, kwargs \u001b[38;5;241m=\u001b[39m \u001b[38;5;28;43mcls\u001b[39;49m\u001b[38;5;241;43m.\u001b[39;49m\u001b[43mget_config_dict\u001b[49m\u001b[43m(\u001b[49m\u001b[43mpretrained_model_name_or_path\u001b[49m\u001b[43m,\u001b[49m\u001b[43m \u001b[49m\u001b[38;5;241;43m*\u001b[39;49m\u001b[38;5;241;43m*\u001b[39;49m\u001b[43mkwargs\u001b[49m\u001b[43m)\u001b[49m\n\u001b[1;32m    603\u001b[0m \u001b[38;5;28;01mif\u001b[39;00m \u001b[38;5;124m\"\u001b[39m\u001b[38;5;124mmodel_type\u001b[39m\u001b[38;5;124m\"\u001b[39m \u001b[38;5;129;01min\u001b[39;00m config_dict \u001b[38;5;129;01mand\u001b[39;00m \u001b[38;5;28mhasattr\u001b[39m(\u001b[38;5;28mcls\u001b[39m, \u001b[38;5;124m\"\u001b[39m\u001b[38;5;124mmodel_type\u001b[39m\u001b[38;5;124m\"\u001b[39m) \u001b[38;5;129;01mand\u001b[39;00m config_dict[\u001b[38;5;124m\"\u001b[39m\u001b[38;5;124mmodel_type\u001b[39m\u001b[38;5;124m\"\u001b[39m] \u001b[38;5;241m!=\u001b[39m \u001b[38;5;28mcls\u001b[39m\u001b[38;5;241m.\u001b[39mmodel_type:\n\u001b[1;32m    604\u001b[0m     logger\u001b[38;5;241m.\u001b[39mwarning(\n\u001b[1;32m    605\u001b[0m         \u001b[38;5;124mf\u001b[39m\u001b[38;5;124m\"\u001b[39m\u001b[38;5;124mYou are using a model of type \u001b[39m\u001b[38;5;132;01m{\u001b[39;00mconfig_dict[\u001b[38;5;124m'\u001b[39m\u001b[38;5;124mmodel_type\u001b[39m\u001b[38;5;124m'\u001b[39m]\u001b[38;5;132;01m}\u001b[39;00m\u001b[38;5;124m to instantiate a model of type \u001b[39m\u001b[38;5;124m\"\u001b[39m\n\u001b[1;32m    606\u001b[0m         \u001b[38;5;124mf\u001b[39m\u001b[38;5;124m\"\u001b[39m\u001b[38;5;132;01m{\u001b[39;00m\u001b[38;5;28mcls\u001b[39m\u001b[38;5;241m.\u001b[39mmodel_type\u001b[38;5;132;01m}\u001b[39;00m\u001b[38;5;124m. This is not supported for all configurations of models and can yield errors.\u001b[39m\u001b[38;5;124m\"\u001b[39m\n\u001b[1;32m    607\u001b[0m     )\n",
      "File \u001b[0;32m~/tesis/.env/lib/python3.12/site-packages/transformers/configuration_utils.py:631\u001b[0m, in \u001b[0;36mPretrainedConfig.get_config_dict\u001b[0;34m(cls, pretrained_model_name_or_path, **kwargs)\u001b[0m\n\u001b[1;32m    629\u001b[0m original_kwargs \u001b[38;5;241m=\u001b[39m copy\u001b[38;5;241m.\u001b[39mdeepcopy(kwargs)\n\u001b[1;32m    630\u001b[0m \u001b[38;5;66;03m# Get config dict associated with the base config file\u001b[39;00m\n\u001b[0;32m--> 631\u001b[0m config_dict, kwargs \u001b[38;5;241m=\u001b[39m \u001b[38;5;28;43mcls\u001b[39;49m\u001b[38;5;241;43m.\u001b[39;49m\u001b[43m_get_config_dict\u001b[49m\u001b[43m(\u001b[49m\u001b[43mpretrained_model_name_or_path\u001b[49m\u001b[43m,\u001b[49m\u001b[43m \u001b[49m\u001b[38;5;241;43m*\u001b[39;49m\u001b[38;5;241;43m*\u001b[39;49m\u001b[43mkwargs\u001b[49m\u001b[43m)\u001b[49m\n\u001b[1;32m    632\u001b[0m \u001b[38;5;28;01mif\u001b[39;00m \u001b[38;5;124m\"\u001b[39m\u001b[38;5;124m_commit_hash\u001b[39m\u001b[38;5;124m\"\u001b[39m \u001b[38;5;129;01min\u001b[39;00m config_dict:\n\u001b[1;32m    633\u001b[0m     original_kwargs[\u001b[38;5;124m\"\u001b[39m\u001b[38;5;124m_commit_hash\u001b[39m\u001b[38;5;124m\"\u001b[39m] \u001b[38;5;241m=\u001b[39m config_dict[\u001b[38;5;124m\"\u001b[39m\u001b[38;5;124m_commit_hash\u001b[39m\u001b[38;5;124m\"\u001b[39m]\n",
      "File \u001b[0;32m~/tesis/.env/lib/python3.12/site-packages/transformers/configuration_utils.py:686\u001b[0m, in \u001b[0;36mPretrainedConfig._get_config_dict\u001b[0;34m(cls, pretrained_model_name_or_path, **kwargs)\u001b[0m\n\u001b[1;32m    682\u001b[0m configuration_file \u001b[38;5;241m=\u001b[39m kwargs\u001b[38;5;241m.\u001b[39mpop(\u001b[38;5;124m\"\u001b[39m\u001b[38;5;124m_configuration_file\u001b[39m\u001b[38;5;124m\"\u001b[39m, CONFIG_NAME)\n\u001b[1;32m    684\u001b[0m \u001b[38;5;28;01mtry\u001b[39;00m:\n\u001b[1;32m    685\u001b[0m     \u001b[38;5;66;03m# Load from local folder or from cache or download from model Hub and cache\u001b[39;00m\n\u001b[0;32m--> 686\u001b[0m     resolved_config_file \u001b[38;5;241m=\u001b[39m \u001b[43mcached_file\u001b[49m\u001b[43m(\u001b[49m\n\u001b[1;32m    687\u001b[0m \u001b[43m        \u001b[49m\u001b[43mpretrained_model_name_or_path\u001b[49m\u001b[43m,\u001b[49m\n\u001b[1;32m    688\u001b[0m \u001b[43m        \u001b[49m\u001b[43mconfiguration_file\u001b[49m\u001b[43m,\u001b[49m\n\u001b[1;32m    689\u001b[0m \u001b[43m        \u001b[49m\u001b[43mcache_dir\u001b[49m\u001b[38;5;241;43m=\u001b[39;49m\u001b[43mcache_dir\u001b[49m\u001b[43m,\u001b[49m\n\u001b[1;32m    690\u001b[0m \u001b[43m        \u001b[49m\u001b[43mforce_download\u001b[49m\u001b[38;5;241;43m=\u001b[39;49m\u001b[43mforce_download\u001b[49m\u001b[43m,\u001b[49m\n\u001b[1;32m    691\u001b[0m \u001b[43m        \u001b[49m\u001b[43mproxies\u001b[49m\u001b[38;5;241;43m=\u001b[39;49m\u001b[43mproxies\u001b[49m\u001b[43m,\u001b[49m\n\u001b[1;32m    692\u001b[0m \u001b[43m        \u001b[49m\u001b[43mresume_download\u001b[49m\u001b[38;5;241;43m=\u001b[39;49m\u001b[43mresume_download\u001b[49m\u001b[43m,\u001b[49m\n\u001b[1;32m    693\u001b[0m \u001b[43m        \u001b[49m\u001b[43mlocal_files_only\u001b[49m\u001b[38;5;241;43m=\u001b[39;49m\u001b[43mlocal_files_only\u001b[49m\u001b[43m,\u001b[49m\n\u001b[1;32m    694\u001b[0m \u001b[43m        \u001b[49m\u001b[43mtoken\u001b[49m\u001b[38;5;241;43m=\u001b[39;49m\u001b[43mtoken\u001b[49m\u001b[43m,\u001b[49m\n\u001b[1;32m    695\u001b[0m \u001b[43m        \u001b[49m\u001b[43muser_agent\u001b[49m\u001b[38;5;241;43m=\u001b[39;49m\u001b[43muser_agent\u001b[49m\u001b[43m,\u001b[49m\n\u001b[1;32m    696\u001b[0m \u001b[43m        \u001b[49m\u001b[43mrevision\u001b[49m\u001b[38;5;241;43m=\u001b[39;49m\u001b[43mrevision\u001b[49m\u001b[43m,\u001b[49m\n\u001b[1;32m    697\u001b[0m \u001b[43m        \u001b[49m\u001b[43msubfolder\u001b[49m\u001b[38;5;241;43m=\u001b[39;49m\u001b[43msubfolder\u001b[49m\u001b[43m,\u001b[49m\n\u001b[1;32m    698\u001b[0m \u001b[43m        \u001b[49m\u001b[43m_commit_hash\u001b[49m\u001b[38;5;241;43m=\u001b[39;49m\u001b[43mcommit_hash\u001b[49m\u001b[43m,\u001b[49m\n\u001b[1;32m    699\u001b[0m \u001b[43m    \u001b[49m\u001b[43m)\u001b[49m\n\u001b[1;32m    700\u001b[0m     commit_hash \u001b[38;5;241m=\u001b[39m extract_commit_hash(resolved_config_file, commit_hash)\n\u001b[1;32m    701\u001b[0m \u001b[38;5;28;01mexcept\u001b[39;00m \u001b[38;5;167;01mEnvironmentError\u001b[39;00m:\n\u001b[1;32m    702\u001b[0m     \u001b[38;5;66;03m# Raise any environment error raise by `cached_file`. It will have a helpful error message adapted to\u001b[39;00m\n\u001b[1;32m    703\u001b[0m     \u001b[38;5;66;03m# the original exception.\u001b[39;00m\n",
      "File \u001b[0;32m~/tesis/.env/lib/python3.12/site-packages/transformers/utils/hub.py:369\u001b[0m, in \u001b[0;36mcached_file\u001b[0;34m(path_or_repo_id, filename, cache_dir, force_download, resume_download, proxies, token, revision, local_files_only, subfolder, repo_type, user_agent, _raise_exceptions_for_gated_repo, _raise_exceptions_for_missing_entries, _raise_exceptions_for_connection_errors, _commit_hash, **deprecated_kwargs)\u001b[0m\n\u001b[1;32m    367\u001b[0m \u001b[38;5;28;01mif\u001b[39;00m \u001b[38;5;129;01mnot\u001b[39;00m os\u001b[38;5;241m.\u001b[39mpath\u001b[38;5;241m.\u001b[39misfile(resolved_file):\n\u001b[1;32m    368\u001b[0m     \u001b[38;5;28;01mif\u001b[39;00m _raise_exceptions_for_missing_entries:\n\u001b[0;32m--> 369\u001b[0m         \u001b[38;5;28;01mraise\u001b[39;00m \u001b[38;5;167;01mEnvironmentError\u001b[39;00m(\n\u001b[1;32m    370\u001b[0m             \u001b[38;5;124mf\u001b[39m\u001b[38;5;124m\"\u001b[39m\u001b[38;5;132;01m{\u001b[39;00mpath_or_repo_id\u001b[38;5;132;01m}\u001b[39;00m\u001b[38;5;124m does not appear to have a file named \u001b[39m\u001b[38;5;132;01m{\u001b[39;00mfull_filename\u001b[38;5;132;01m}\u001b[39;00m\u001b[38;5;124m. Checkout \u001b[39m\u001b[38;5;124m\"\u001b[39m\n\u001b[1;32m    371\u001b[0m             \u001b[38;5;124mf\u001b[39m\u001b[38;5;124m\"\u001b[39m\u001b[38;5;124m'\u001b[39m\u001b[38;5;124mhttps://huggingface.co/\u001b[39m\u001b[38;5;132;01m{\u001b[39;00mpath_or_repo_id\u001b[38;5;132;01m}\u001b[39;00m\u001b[38;5;124m/tree/\u001b[39m\u001b[38;5;132;01m{\u001b[39;00mrevision\u001b[38;5;132;01m}\u001b[39;00m\u001b[38;5;124m'\u001b[39m\u001b[38;5;124m for available files.\u001b[39m\u001b[38;5;124m\"\u001b[39m\n\u001b[1;32m    372\u001b[0m         )\n\u001b[1;32m    373\u001b[0m     \u001b[38;5;28;01melse\u001b[39;00m:\n\u001b[1;32m    374\u001b[0m         \u001b[38;5;28;01mreturn\u001b[39;00m \u001b[38;5;28;01mNone\u001b[39;00m\n",
      "\u001b[0;31mOSError\u001b[0m: facebook/wav2vec2-base-960h does not appear to have a file named config.json. Checkout 'https://huggingface.co/facebook/wav2vec2-base-960h/tree/main' for available files."
     ]
    }
   ],
   "source": [
    "# extract embeddings for dev set\n",
    "path_to_dev_csv = '/home/aleph/tesis/classifier/dev.csv'\n",
    "path_to_dev_embeddings = '/home/aleph/tesis/classifier/embeddings/dev'\n",
    "# wav2vec_embeddings(path_to_dev_csv, path_to_dev_embeddings)\n",
    "\n",
    "# extract embeddings for test set\n",
    "path_to_test_csv = '/home/aleph/tesis/classifier/test.csv'\n",
    "path_to_test_embeddings = '/home/aleph/tesis/classifier/embeddings/test'\n",
    "# wav2vec_embeddings(path_to_test_csv, path_to_test_embeddings)\n",
    "\n",
    "# extract embeddings for train set\n",
    "path_to_train_csv = '/home/aleph/tesis/classifier/train.csv'\n",
    "path_to_train_embeddings = '/home/aleph/tesis/classifier/embeddings/train'\n",
    "# wav2vec_embeddings(path_to_train_csv, path_to_train_embeddings)"
   ]
  },
  {
   "cell_type": "markdown",
   "metadata": {},
   "source": [
    "## attempt to plot some sort of distribution of the embeddings"
   ]
  },
  {
   "cell_type": "code",
   "execution_count": 12,
   "metadata": {},
   "outputs": [
    {
     "name": "stdout",
     "output_type": "stream",
     "text": [
      "Train embeddings shape: (3473, 1, 768)\n",
      "Test embeddings shape: (863, 1, 768)\n"
     ]
    }
   ],
   "source": [
    "# let's explore the embeddings to see distributions of data\n",
    "import matplotlib.pyplot as plt\n",
    "import seaborn as sns\n",
    "from numpy import array\n",
    "from numpy import float32\n",
    "\n",
    "# get the embeddings read from the csv\n",
    "train_embeddings = pd.read_csv(path_to_save_train_embeddings)\n",
    "test_embeddings = pd.read_csv(path_to_save_test_embeddings)\n",
    "\n",
    "# get the embeddings\n",
    "train_embeddings = train_embeddings['embeddings']\n",
    "test_embeddings = test_embeddings['embeddings']\n",
    "\n",
    "# convert the strings to lists\n",
    "train_embeddings = train_embeddings.apply(lambda x: eval(x))\n",
    "test_embeddings = test_embeddings.apply(lambda x: eval(x))\n",
    "\n",
    "# convert the lists to numpy arrays\n",
    "train_embeddings = np.array(train_embeddings.tolist())\n",
    "test_embeddings = np.array(test_embeddings.tolist())\n",
    "\n",
    "# get the shape of the embeddings\n",
    "print(f\"Train embeddings shape: {train_embeddings.shape}\")\n",
    "print(f\"Test embeddings shape: {test_embeddings.shape}\")\n",
    "\n",
    "\n"
   ]
  },
  {
   "cell_type": "code",
   "execution_count": 38,
   "metadata": {},
   "outputs": [
    {
     "name": "stdout",
     "output_type": "stream",
     "text": [
      "Projecting to 2D with UMAP\n"
     ]
    }
   ],
   "source": [
    "import umap.umap_ as umap\n",
    "\n",
    "#Create a numpy array with the features and project them to 2D using UMAP:\n",
    "X = np.stack(train_embeddings.squeeze())\n",
    "print('Projecting to 2D with UMAP')\n",
    "projector = umap.UMAP()\n",
    "projected = projector.fit_transform(X)\n",
    "metadata_df = pd.DataFrame()\n",
    "metadata_df['X'] = projected[:,0]\n",
    "metadata_df['Y'] = projected[:,1]"
   ]
  },
  {
   "cell_type": "code",
   "execution_count": 40,
   "metadata": {},
   "outputs": [
    {
     "name": "stderr",
     "output_type": "stream",
     "text": [
      "No artists with labels found to put in legend.  Note that artists whose label start with an underscore are ignored when legend() is called with no argument.\n"
     ]
    },
    {
     "data": {
      "text/plain": [
       "<matplotlib.legend.Legend at 0x726dfa482480>"
      ]
     },
     "execution_count": 40,
     "metadata": {},
     "output_type": "execute_result"
    },
    {
     "data": {
      "image/png": "[encoded data removed]",
      "text/plain": [
       "<Figure size 640x480 with 1 Axes>"
      ]
     },
     "metadata": {},
     "output_type": "display_data"
    }
   ],
   "source": [
    "plt.title('2D projection of Wav2Vec2 features colored by score')\n",
    "sns.scatterplot(data=metadata_df,x='X',y='Y')\n",
    "plt.legend(bbox_to_anchor=(1.05, 1), loc='upper left', borderaxespad=0)"
   ]
  },
  {
   "cell_type": "code",
   "execution_count": 41,
   "metadata": {},
   "outputs": [
    {
     "name": "stdout",
     "output_type": "stream",
     "text": [
      "Projecting to 2D with UMAP\n"
     ]
    },
    {
     "name": "stderr",
     "output_type": "stream",
     "text": [
      "No artists with labels found to put in legend.  Note that artists whose label start with an underscore are ignored when legend() is called with no argument.\n"
     ]
    },
    {
     "data": {
      "text/plain": [
       "<matplotlib.legend.Legend at 0x726e013ad010>"
      ]
     },
     "execution_count": 41,
     "metadata": {},
     "output_type": "execute_result"
    },
    {
     "data": {
      "image/png": "[encoded data removed]",
      "text/plain": [
       "<Figure size 640x480 with 1 Axes>"
      ]
     },
     "metadata": {},
     "output_type": "display_data"
    }
   ],
   "source": [
    "import umap.umap_ as umap\n",
    "\n",
    "#Create a numpy array with the features and project them to 2D using UMAP:\n",
    "X = np.stack(test_embeddings.squeeze())\n",
    "print('Projecting to 2D with UMAP')\n",
    "projector = umap.UMAP()\n",
    "projected = projector.fit_transform(X)\n",
    "metadata_df = pd.DataFrame()\n",
    "metadata_df['X'] = projected[:,0]\n",
    "metadata_df['Y'] = projected[:,1]\n",
    "\n",
    "plt.title('2D projection of Wav2Vec2 features colored by score')\n",
    "sns.scatterplot(data=metadata_df,x='X',y='Y')\n",
    "plt.legend(bbox_to_anchor=(1.05, 1), loc='upper left', borderaxespad=0)"
   ]
  },
  {
   "cell_type": "markdown",
   "metadata": {},
   "source": [
    "# MOSDataset\n",
    "* Convert the embeddings from string representations into proper tensors.\n",
    "* Separate the data into features (embeddings) and targets (MOS scores)."
   ]
  },
  {
   "cell_type": "code",
   "execution_count": 5,
   "metadata": {},
   "outputs": [],
   "source": [
    "# Custom dataset to read embeddings and MOS scores from a CSV\n",
    "from numpy import array\n",
    "from numpy import float32\n",
    "\n",
    "class MOSDataset(Dataset):\n",
    "    def __init__(self, csv_file, split):\n",
    "        # Load the CSV file\n",
    "        self.data = pd.read_csv(csv_file)\n",
    "        self.split = split  # Store the split (train, val, test)\n",
    "\n",
    "        \n",
    "    def __len__(self):\n",
    "        return len(self.data)  # Total number of samples in the dataset\n",
    "    \n",
    "    def __getitem__(self, idx):\n",
    "        # Get the embeddings and MOS scores for the given index\n",
    "        file_name = os.path.basename(self.data.iloc[idx]['stimuli'])\n",
    "        file_folder = os.path.basename(os.path.dirname(self.data.iloc[idx]['stimuli']))\n",
    "\n",
    "        embeddings_path = f\"/home/aleph/tesis/classifier/embeddings/{self.split}/{file_folder}/{file_name.split('.')[0]}.npy\"\n",
    "\n",
    "        # Check if the embeddings file exists\n",
    "        if not os.path.isfile(embeddings_path):\n",
    "            raise FileNotFoundError(f\"Embeddings file not found at {embeddings_path}\")\n",
    "\n",
    "        embeddings = np.load(embeddings_path)\n",
    "\n",
    "        mos_score = self.data.iloc[idx]['mos']\n",
    "\n",
    "        # Convert the numpy array of embeddings to a tensor\n",
    "        embeddings_tensor = torch.tensor(embeddings, dtype=torch.float32)  # Convert to PyTorch tensor\n",
    "\n",
    "        # drop first layer\n",
    "        # embeddings_tensor = embeddings_tensor[1:]\n",
    "                \n",
    "        # MOS score should be a single value\n",
    "        mos_tensor = torch.tensor([mos_score], dtype=torch.float32)  # Convert to tensor\n",
    "        \n",
    "        return embeddings_tensor, mos_tensor\n",
    "\n",
    "# Create the training DataLoader\n",
    "train_csv_path = \"/home/aleph/tesis/classifier/train.csv\"\n",
    "train_dataset = MOSDataset(train_csv_path, split='train')\n",
    "train_loader = DataLoader(train_dataset, batch_size=32, shuffle=True, num_workers=2)  # DataLoader with batching and shuffling\n",
    "\n",
    "# Create the validation DataLoader\n",
    "val_csv_path = \"/home/aleph/tesis/classifier/val.csv\"\n",
    "val_dataset = MOSDataset(val_csv_path, split='val')\n",
    "val_loader = DataLoader(val_dataset, batch_size=32, shuffle=False, num_workers=2)\n",
    "\n",
    "# Create the testing DataLoader\n",
    "test_csv_path = \"/home/aleph/tesis/classifier/test.csv\"\n",
    "test_dataset = MOSDataset(test_csv_path, split='test')\n",
    "test_loader = DataLoader(test_dataset, batch_size=32, shuffle=False, num_workers=2) \n"
   ]
  },
  {
   "cell_type": "code",
   "execution_count": 6,
   "metadata": {},
   "outputs": [
    {
     "name": "stdout",
     "output_type": "stream",
     "text": [
      "Embeddings shape: torch.Size([13, 768])\n",
      "MOS score: 1.5\n"
     ]
    }
   ],
   "source": [
    "# Test getting an item\n",
    "try:\n",
    "    embeddings, mos = test_dataset[0]  # Test the first item\n",
    "    print(\"Embeddings shape:\", embeddings.shape)  # Expected shape\n",
    "    print(\"MOS score:\", mos.item())  # Expected MOS score\n",
    "except Exception as e:\n",
    "    print(\"Error getting item:\", e)"
   ]
  },
  {
   "cell_type": "code",
   "execution_count": 7,
   "metadata": {},
   "outputs": [
    {
     "name": "stdout",
     "output_type": "stream",
     "text": [
      "Train dataset length: 3136\n",
      "Validation dataset length: 313\n",
      "Test dataset length: 307\n"
     ]
    }
   ],
   "source": [
    "#print length of the datasets\n",
    "print(f\"Train dataset length: {len(train_dataset)}\")\n",
    "print(f\"Validation dataset length: {len(val_dataset)}\")\n",
    "print(f\"Test dataset length: {len(test_dataset)}\")"
   ]
  },
  {
   "cell_type": "markdown",
   "metadata": {},
   "source": [
    "# Neural network"
   ]
  },
  {
   "cell_type": "code",
   "execution_count": 8,
   "metadata": {},
   "outputs": [],
   "source": [
    "class WeightedAverage(torch.nn.Module):\n",
    "    def __init__(self, num_layers=12):\n",
    "        super().__init__()\n",
    "        self.weights = torch.nn.Parameter(data=torch.ones((num_layers,)))\n",
    "       \n",
    "    def forward(self, x):\n",
    "        w = torch.nn.functional.softmax(self.weights, dim=0)\n",
    "        x_weighted = x*w[None,:,None]\n",
    "        return torch.sum(x_weighted, dim=1)\n",
    "\n",
    "class DenseMOS(nn.Module):\n",
    "    def __init__(self, input_dim, hidden_dim, dropout_prob, num_layers):\n",
    "        super(DenseMOS, self).__init__()\n",
    "\n",
    "        # add a weighted average layer\n",
    "        self.weighted_average = WeightedAverage(num_layers)\n",
    "        \n",
    "        # First dense layer with 128 neurons, ReLU activation, and dropout\n",
    "        self.layer1 = nn.Sequential(\n",
    "            nn.Linear(input_dim, hidden_dim),  # Linear layer for dense transformation\n",
    "            nn.ReLU(),  # ReLU activation\n",
    "            nn.Dropout(dropout_prob),  # Dropout with 0.2\n",
    "        )\n",
    "\n",
    "        # Second dense layer, same design\n",
    "        self.layer2 = nn.Sequential(\n",
    "            nn.Linear(hidden_dim, hidden_dim),\n",
    "            nn.ReLU(),\n",
    "            nn.Dropout(dropout_prob),\n",
    "        )\n",
    "\n",
    "        # Final dense layer for MOS score prediction\n",
    "        self.output_layer = nn.Linear(hidden_dim, 1)  # Linear layer to predict MOS\n",
    "\n",
    "    def forward(self, x):\n",
    "        # Apply the weighted average to combine 12 layers into 1\n",
    "        x = self.weighted_average(x)  # Apply WeightedAverage\n",
    "\n",
    "        # Pass the input through the first dense layer\n",
    "        x = self.layer1(x)\n",
    "\n",
    "        # Pass through the second dense layer\n",
    "        x = self.layer2(x)\n",
    "\n",
    "        # Pass through the final dense layer to get the MOS score\n",
    "        x = self.output_layer(x)  # Output layer\n",
    "\n",
    "        # # Constrain the output to the 1-5 range\n",
    "        # x = torch.sigmoid(x)  # Constrain between 0 and 1\n",
    "        # x = 1 + 4 * x  # Scale to 1-5\n",
    "\n",
    "        return x\n",
    "\n",
    "\n",
    "# Define the model parameters\n",
    "input_dim = 768  # Single 768-dimensional input\n",
    "hidden_dim = 128  # Hidden dimension for dense layers\n",
    "dropout_prob = 0.6  # Dropout probability\n",
    "num_layers = 13  # Number of layers in the Wav2Vec2 model"
   ]
  },
  {
   "cell_type": "markdown",
   "metadata": {},
   "source": [
    "# Training"
   ]
  },
  {
   "cell_type": "code",
   "execution_count": 9,
   "metadata": {},
   "outputs": [
    {
     "data": {
      "text/plain": [
       "DenseMOS(\n",
       "  (weighted_average): WeightedAverage()\n",
       "  (layer1): Sequential(\n",
       "    (0): Linear(in_features=768, out_features=128, bias=True)\n",
       "    (1): ReLU()\n",
       "    (2): Dropout(p=0.6, inplace=False)\n",
       "  )\n",
       "  (layer2): Sequential(\n",
       "    (0): Linear(in_features=128, out_features=128, bias=True)\n",
       "    (1): ReLU()\n",
       "    (2): Dropout(p=0.6, inplace=False)\n",
       "  )\n",
       "  (output_layer): Linear(in_features=128, out_features=1, bias=True)\n",
       ")"
      ]
     },
     "execution_count": 9,
     "metadata": {},
     "output_type": "execute_result"
    }
   ],
   "source": [
    "# Instantiate the DenseMOS model\n",
    "dense_mos = DenseMOS(input_dim, hidden_dim, dropout_prob, num_layers)\n",
    "dense_mos.to(device)  # Move the model to the device"
   ]
  },
  {
   "cell_type": "markdown",
   "metadata": {},
   "source": [
    "## Define a Loss Function and Optimizer\n"
   ]
  },
  {
   "cell_type": "code",
   "execution_count": 10,
   "metadata": {},
   "outputs": [],
   "source": [
    "# define loss and optimizer\n",
    "loss_fn = nn.MSELoss()  # Mean squared error loss\n",
    "# propose a different possible loss function\n",
    "# loss_fn = nn.SmoothL1Loss()  # Huber loss\n",
    "\n",
    "# Assuming you are using an optimizer like Adam\n",
    "# optimizer = torch.optim.Adam(dense_mos.parameters(), lr=1e-4, weight_decay=1e-5)  # Add L2 regularization\n",
    "# optimizer = torch.optim.Adam(dense_mos.parameters(), lr=1e-4)\n",
    "\n",
    "base_params = [p for name, p in dense_mos.named_parameters() if \"weights\" not in name]\n",
    "weight_params = [dense_mos.weighted_average.weights]\n",
    "optimizer = torch.optim.Adam([\n",
    "    {'params': base_params},\n",
    "    {'params': weight_params, 'lr': 1e-3}  # Higher learning rate for weights\n",
    "], lr=1e-4)"
   ]
  },
  {
   "cell_type": "markdown",
   "metadata": {},
   "source": [
    "## Training Loop"
   ]
  },
  {
   "cell_type": "code",
   "execution_count": 11,
   "metadata": {},
   "outputs": [
    {
     "name": "stderr",
     "output_type": "stream",
     "text": [
      "Epoch 1/1000: 100%|██████████| 98/98 [00:02<00:00, 44.43it/s]\n"
     ]
    },
    {
     "name": "stdout",
     "output_type": "stream",
     "text": [
      "Epoch 1/1000, Training Loss: 5.2933, Validation Loss: 3.2227\n"
     ]
    },
    {
     "name": "stderr",
     "output_type": "stream",
     "text": [
      "Epoch 2/1000: 100%|██████████| 98/98 [00:00<00:00, 98.40it/s]\n"
     ]
    },
    {
     "name": "stdout",
     "output_type": "stream",
     "text": [
      "Epoch 2/1000, Training Loss: 2.5493, Validation Loss: 2.9866\n"
     ]
    },
    {
     "name": "stderr",
     "output_type": "stream",
     "text": [
      "Epoch 3/1000: 100%|██████████| 98/98 [00:01<00:00, 97.72it/s]\n"
     ]
    },
    {
     "name": "stdout",
     "output_type": "stream",
     "text": [
      "Epoch 3/1000, Training Loss: 2.2721, Validation Loss: 2.7273\n"
     ]
    },
    {
     "name": "stderr",
     "output_type": "stream",
     "text": [
      "Epoch 4/1000: 100%|██████████| 98/98 [00:00<00:00, 98.32it/s] \n"
     ]
    },
    {
     "name": "stdout",
     "output_type": "stream",
     "text": [
      "Epoch 4/1000, Training Loss: 2.0580, Validation Loss: 2.5367\n"
     ]
    },
    {
     "name": "stderr",
     "output_type": "stream",
     "text": [
      "Epoch 5/1000: 100%|██████████| 98/98 [00:00<00:00, 98.77it/s]\n"
     ]
    },
    {
     "name": "stdout",
     "output_type": "stream",
     "text": [
      "Epoch 5/1000, Training Loss: 1.9951, Validation Loss: 2.4404\n"
     ]
    },
    {
     "name": "stderr",
     "output_type": "stream",
     "text": [
      "Epoch 6/1000: 100%|██████████| 98/98 [00:01<00:00, 97.49it/s] \n"
     ]
    },
    {
     "name": "stdout",
     "output_type": "stream",
     "text": [
      "Epoch 6/1000, Training Loss: 1.9059, Validation Loss: 2.3275\n"
     ]
    },
    {
     "name": "stderr",
     "output_type": "stream",
     "text": [
      "Epoch 7/1000: 100%|██████████| 98/98 [00:01<00:00, 97.87it/s] \n"
     ]
    },
    {
     "name": "stdout",
     "output_type": "stream",
     "text": [
      "Epoch 7/1000, Training Loss: 1.8046, Validation Loss: 2.2041\n"
     ]
    },
    {
     "name": "stderr",
     "output_type": "stream",
     "text": [
      "Epoch 8/1000: 100%|██████████| 98/98 [00:01<00:00, 97.44it/s]\n"
     ]
    },
    {
     "name": "stdout",
     "output_type": "stream",
     "text": [
      "Epoch 8/1000, Training Loss: 1.8086, Validation Loss: 2.1332\n"
     ]
    },
    {
     "name": "stderr",
     "output_type": "stream",
     "text": [
      "Epoch 9/1000: 100%|██████████| 98/98 [00:01<00:00, 96.45it/s]\n"
     ]
    },
    {
     "name": "stdout",
     "output_type": "stream",
     "text": [
      "Epoch 9/1000, Training Loss: 1.7999, Validation Loss: 2.0553\n"
     ]
    },
    {
     "name": "stderr",
     "output_type": "stream",
     "text": [
      "Epoch 10/1000: 100%|██████████| 98/98 [00:01<00:00, 94.45it/s]\n"
     ]
    },
    {
     "name": "stdout",
     "output_type": "stream",
     "text": [
      "Epoch 10/1000, Training Loss: 1.6679, Validation Loss: 1.9835\n"
     ]
    },
    {
     "name": "stderr",
     "output_type": "stream",
     "text": [
      "Epoch 11/1000: 100%|██████████| 98/98 [00:01<00:00, 94.42it/s]\n"
     ]
    },
    {
     "name": "stdout",
     "output_type": "stream",
     "text": [
      "Epoch 11/1000, Training Loss: 1.6988, Validation Loss: 1.9293\n"
     ]
    },
    {
     "name": "stderr",
     "output_type": "stream",
     "text": [
      "Epoch 12/1000: 100%|██████████| 98/98 [00:01<00:00, 95.11it/s]\n"
     ]
    },
    {
     "name": "stdout",
     "output_type": "stream",
     "text": [
      "Epoch 12/1000, Training Loss: 1.7452, Validation Loss: 1.8462\n"
     ]
    },
    {
     "name": "stderr",
     "output_type": "stream",
     "text": [
      "Epoch 13/1000: 100%|██████████| 98/98 [00:01<00:00, 95.84it/s]\n"
     ]
    },
    {
     "name": "stdout",
     "output_type": "stream",
     "text": [
      "Epoch 13/1000, Training Loss: 1.6634, Validation Loss: 1.7898\n"
     ]
    },
    {
     "name": "stderr",
     "output_type": "stream",
     "text": [
      "Epoch 14/1000: 100%|██████████| 98/98 [00:01<00:00, 94.76it/s]\n"
     ]
    },
    {
     "name": "stdout",
     "output_type": "stream",
     "text": [
      "Epoch 14/1000, Training Loss: 1.5816, Validation Loss: 1.6859\n"
     ]
    },
    {
     "name": "stderr",
     "output_type": "stream",
     "text": [
      "Epoch 15/1000: 100%|██████████| 98/98 [00:01<00:00, 94.86it/s]\n"
     ]
    },
    {
     "name": "stdout",
     "output_type": "stream",
     "text": [
      "Epoch 15/1000, Training Loss: 1.5839, Validation Loss: 1.5970\n"
     ]
    },
    {
     "name": "stderr",
     "output_type": "stream",
     "text": [
      "Epoch 16/1000: 100%|██████████| 98/98 [00:00<00:00, 98.61it/s]\n"
     ]
    },
    {
     "name": "stdout",
     "output_type": "stream",
     "text": [
      "Epoch 16/1000, Training Loss: 1.5497, Validation Loss: 1.5018\n"
     ]
    },
    {
     "name": "stderr",
     "output_type": "stream",
     "text": [
      "Epoch 17/1000: 100%|██████████| 98/98 [00:01<00:00, 96.54it/s]\n"
     ]
    },
    {
     "name": "stdout",
     "output_type": "stream",
     "text": [
      "Epoch 17/1000, Training Loss: 1.6318, Validation Loss: 1.4468\n"
     ]
    },
    {
     "name": "stderr",
     "output_type": "stream",
     "text": [
      "Epoch 18/1000: 100%|██████████| 98/98 [00:01<00:00, 95.37it/s]\n"
     ]
    },
    {
     "name": "stdout",
     "output_type": "stream",
     "text": [
      "Epoch 18/1000, Training Loss: 1.5397, Validation Loss: 1.3734\n"
     ]
    },
    {
     "name": "stderr",
     "output_type": "stream",
     "text": [
      "Epoch 19/1000: 100%|██████████| 98/98 [00:01<00:00, 95.94it/s]\n"
     ]
    },
    {
     "name": "stdout",
     "output_type": "stream",
     "text": [
      "Epoch 19/1000, Training Loss: 1.5523, Validation Loss: 1.3116\n"
     ]
    },
    {
     "name": "stderr",
     "output_type": "stream",
     "text": [
      "Epoch 20/1000: 100%|██████████| 98/98 [00:01<00:00, 95.64it/s]\n"
     ]
    },
    {
     "name": "stdout",
     "output_type": "stream",
     "text": [
      "Epoch 20/1000, Training Loss: 1.5610, Validation Loss: 1.2507\n"
     ]
    },
    {
     "name": "stderr",
     "output_type": "stream",
     "text": [
      "Epoch 21/1000: 100%|██████████| 98/98 [00:01<00:00, 93.22it/s]\n"
     ]
    },
    {
     "name": "stdout",
     "output_type": "stream",
     "text": [
      "Epoch 21/1000, Training Loss: 1.5180, Validation Loss: 1.1619\n"
     ]
    },
    {
     "name": "stderr",
     "output_type": "stream",
     "text": [
      "Epoch 22/1000: 100%|██████████| 98/98 [00:01<00:00, 87.98it/s]\n"
     ]
    },
    {
     "name": "stdout",
     "output_type": "stream",
     "text": [
      "Epoch 22/1000, Training Loss: 1.4997, Validation Loss: 1.0993\n"
     ]
    },
    {
     "name": "stderr",
     "output_type": "stream",
     "text": [
      "Epoch 23/1000: 100%|██████████| 98/98 [00:01<00:00, 93.83it/s]\n"
     ]
    },
    {
     "name": "stdout",
     "output_type": "stream",
     "text": [
      "Epoch 23/1000, Training Loss: 1.5526, Validation Loss: 1.0354\n"
     ]
    },
    {
     "name": "stderr",
     "output_type": "stream",
     "text": [
      "Epoch 24/1000: 100%|██████████| 98/98 [00:01<00:00, 94.98it/s] \n"
     ]
    },
    {
     "name": "stdout",
     "output_type": "stream",
     "text": [
      "Epoch 24/1000, Training Loss: 1.5038, Validation Loss: 0.9940\n"
     ]
    },
    {
     "name": "stderr",
     "output_type": "stream",
     "text": [
      "Epoch 25/1000: 100%|██████████| 98/98 [00:01<00:00, 97.86it/s]\n"
     ]
    },
    {
     "name": "stdout",
     "output_type": "stream",
     "text": [
      "Epoch 25/1000, Training Loss: 1.4597, Validation Loss: 0.9402\n"
     ]
    },
    {
     "name": "stderr",
     "output_type": "stream",
     "text": [
      "Epoch 26/1000: 100%|██████████| 98/98 [00:01<00:00, 84.87it/s]\n"
     ]
    },
    {
     "name": "stdout",
     "output_type": "stream",
     "text": [
      "Epoch 26/1000, Training Loss: 1.4884, Validation Loss: 0.8850\n"
     ]
    },
    {
     "name": "stderr",
     "output_type": "stream",
     "text": [
      "Epoch 27/1000: 100%|██████████| 98/98 [00:01<00:00, 87.17it/s]\n"
     ]
    },
    {
     "name": "stdout",
     "output_type": "stream",
     "text": [
      "Epoch 27/1000, Training Loss: 1.4656, Validation Loss: 0.8425\n"
     ]
    },
    {
     "name": "stderr",
     "output_type": "stream",
     "text": [
      "Epoch 28/1000: 100%|██████████| 98/98 [00:01<00:00, 89.84it/s]\n"
     ]
    },
    {
     "name": "stdout",
     "output_type": "stream",
     "text": [
      "Epoch 28/1000, Training Loss: 1.4326, Validation Loss: 0.8064\n"
     ]
    },
    {
     "name": "stderr",
     "output_type": "stream",
     "text": [
      "Epoch 29/1000: 100%|██████████| 98/98 [00:01<00:00, 94.17it/s]\n"
     ]
    },
    {
     "name": "stdout",
     "output_type": "stream",
     "text": [
      "Epoch 29/1000, Training Loss: 1.4863, Validation Loss: 0.7696\n"
     ]
    },
    {
     "name": "stderr",
     "output_type": "stream",
     "text": [
      "Epoch 30/1000: 100%|██████████| 98/98 [00:00<00:00, 99.52it/s] \n"
     ]
    },
    {
     "name": "stdout",
     "output_type": "stream",
     "text": [
      "Epoch 30/1000, Training Loss: 1.4670, Validation Loss: 0.7407\n"
     ]
    },
    {
     "name": "stderr",
     "output_type": "stream",
     "text": [
      "Epoch 31/1000: 100%|██████████| 98/98 [00:01<00:00, 92.03it/s]\n"
     ]
    },
    {
     "name": "stdout",
     "output_type": "stream",
     "text": [
      "Epoch 31/1000, Training Loss: 1.4477, Validation Loss: 0.7158\n"
     ]
    },
    {
     "name": "stderr",
     "output_type": "stream",
     "text": [
      "Epoch 32/1000: 100%|██████████| 98/98 [00:01<00:00, 95.47it/s]\n"
     ]
    },
    {
     "name": "stdout",
     "output_type": "stream",
     "text": [
      "Epoch 32/1000, Training Loss: 1.4668, Validation Loss: 0.7040\n"
     ]
    },
    {
     "name": "stderr",
     "output_type": "stream",
     "text": [
      "Epoch 33/1000: 100%|██████████| 98/98 [00:01<00:00, 94.73it/s]\n"
     ]
    },
    {
     "name": "stdout",
     "output_type": "stream",
     "text": [
      "Epoch 33/1000, Training Loss: 1.3948, Validation Loss: 0.6785\n"
     ]
    },
    {
     "name": "stderr",
     "output_type": "stream",
     "text": [
      "Epoch 34/1000: 100%|██████████| 98/98 [00:01<00:00, 80.49it/s]\n"
     ]
    },
    {
     "name": "stdout",
     "output_type": "stream",
     "text": [
      "Epoch 34/1000, Training Loss: 1.4230, Validation Loss: 0.6737\n"
     ]
    },
    {
     "name": "stderr",
     "output_type": "stream",
     "text": [
      "Epoch 35/1000: 100%|██████████| 98/98 [00:01<00:00, 95.86it/s]\n"
     ]
    },
    {
     "name": "stdout",
     "output_type": "stream",
     "text": [
      "Epoch 35/1000, Training Loss: 1.4045, Validation Loss: 0.6708\n"
     ]
    },
    {
     "name": "stderr",
     "output_type": "stream",
     "text": [
      "Epoch 36/1000: 100%|██████████| 98/98 [00:01<00:00, 94.81it/s]\n"
     ]
    },
    {
     "name": "stdout",
     "output_type": "stream",
     "text": [
      "Epoch 36/1000, Training Loss: 1.3855, Validation Loss: 0.6722\n"
     ]
    },
    {
     "name": "stderr",
     "output_type": "stream",
     "text": [
      "Epoch 37/1000: 100%|██████████| 98/98 [00:01<00:00, 93.33it/s]\n"
     ]
    },
    {
     "name": "stdout",
     "output_type": "stream",
     "text": [
      "Epoch 37/1000, Training Loss: 1.4095, Validation Loss: 0.6775\n"
     ]
    },
    {
     "name": "stderr",
     "output_type": "stream",
     "text": [
      "Epoch 38/1000: 100%|██████████| 98/98 [00:01<00:00, 93.89it/s] \n"
     ]
    },
    {
     "name": "stdout",
     "output_type": "stream",
     "text": [
      "Epoch 38/1000, Training Loss: 1.3575, Validation Loss: 0.7011\n"
     ]
    },
    {
     "name": "stderr",
     "output_type": "stream",
     "text": [
      "Epoch 39/1000: 100%|██████████| 98/98 [00:01<00:00, 94.69it/s]\n"
     ]
    },
    {
     "name": "stdout",
     "output_type": "stream",
     "text": [
      "Epoch 39/1000, Training Loss: 1.3682, Validation Loss: 0.7216\n"
     ]
    },
    {
     "name": "stderr",
     "output_type": "stream",
     "text": [
      "Epoch 40/1000: 100%|██████████| 98/98 [00:01<00:00, 94.57it/s]\n"
     ]
    },
    {
     "name": "stdout",
     "output_type": "stream",
     "text": [
      "Epoch 40/1000, Training Loss: 1.3561, Validation Loss: 0.7506\n"
     ]
    },
    {
     "name": "stderr",
     "output_type": "stream",
     "text": [
      "Epoch 41/1000: 100%|██████████| 98/98 [00:01<00:00, 91.47it/s]\n"
     ]
    },
    {
     "name": "stdout",
     "output_type": "stream",
     "text": [
      "Epoch 41/1000, Training Loss: 1.3876, Validation Loss: 0.7706\n"
     ]
    },
    {
     "name": "stderr",
     "output_type": "stream",
     "text": [
      "Epoch 42/1000: 100%|██████████| 98/98 [00:01<00:00, 96.32it/s]\n"
     ]
    },
    {
     "name": "stdout",
     "output_type": "stream",
     "text": [
      "Epoch 42/1000, Training Loss: 1.3634, Validation Loss: 0.8230\n"
     ]
    },
    {
     "name": "stderr",
     "output_type": "stream",
     "text": [
      "Epoch 43/1000: 100%|██████████| 98/98 [00:01<00:00, 91.55it/s]\n"
     ]
    },
    {
     "name": "stdout",
     "output_type": "stream",
     "text": [
      "Epoch 43/1000, Training Loss: 1.3289, Validation Loss: 0.8732\n"
     ]
    },
    {
     "name": "stderr",
     "output_type": "stream",
     "text": [
      "Epoch 44/1000: 100%|██████████| 98/98 [00:01<00:00, 92.46it/s]\n"
     ]
    },
    {
     "name": "stdout",
     "output_type": "stream",
     "text": [
      "Epoch 44/1000, Training Loss: 1.3655, Validation Loss: 0.9355\n"
     ]
    },
    {
     "name": "stderr",
     "output_type": "stream",
     "text": [
      "Epoch 45/1000: 100%|██████████| 98/98 [00:01<00:00, 88.33it/s]\n"
     ]
    },
    {
     "name": "stdout",
     "output_type": "stream",
     "text": [
      "Epoch 45/1000, Training Loss: 1.3614, Validation Loss: 1.0076\n"
     ]
    },
    {
     "name": "stderr",
     "output_type": "stream",
     "text": [
      "Epoch 46/1000: 100%|██████████| 98/98 [00:01<00:00, 95.75it/s]\n"
     ]
    },
    {
     "name": "stdout",
     "output_type": "stream",
     "text": [
      "Epoch 46/1000, Training Loss: 1.2956, Validation Loss: 1.1158\n"
     ]
    },
    {
     "name": "stderr",
     "output_type": "stream",
     "text": [
      "Epoch 47/1000: 100%|██████████| 98/98 [00:00<00:00, 98.30it/s]\n"
     ]
    },
    {
     "name": "stdout",
     "output_type": "stream",
     "text": [
      "Epoch 47/1000, Training Loss: 1.3254, Validation Loss: 1.1702\n"
     ]
    },
    {
     "name": "stderr",
     "output_type": "stream",
     "text": [
      "Epoch 48/1000: 100%|██████████| 98/98 [00:00<00:00, 98.13it/s]\n"
     ]
    },
    {
     "name": "stdout",
     "output_type": "stream",
     "text": [
      "Epoch 48/1000, Training Loss: 1.3349, Validation Loss: 1.2318\n"
     ]
    },
    {
     "name": "stderr",
     "output_type": "stream",
     "text": [
      "Epoch 49/1000: 100%|██████████| 98/98 [00:01<00:00, 97.03it/s] \n"
     ]
    },
    {
     "name": "stdout",
     "output_type": "stream",
     "text": [
      "Epoch 49/1000, Training Loss: 1.3456, Validation Loss: 1.3764\n"
     ]
    },
    {
     "name": "stderr",
     "output_type": "stream",
     "text": [
      "Epoch 50/1000: 100%|██████████| 98/98 [00:01<00:00, 97.28it/s]\n"
     ]
    },
    {
     "name": "stdout",
     "output_type": "stream",
     "text": [
      "Epoch 50/1000, Training Loss: 1.3120, Validation Loss: 1.4917\n"
     ]
    },
    {
     "name": "stderr",
     "output_type": "stream",
     "text": [
      "Epoch 51/1000: 100%|██████████| 98/98 [00:01<00:00, 95.34it/s]\n"
     ]
    },
    {
     "name": "stdout",
     "output_type": "stream",
     "text": [
      "Epoch 51/1000, Training Loss: 1.3035, Validation Loss: 1.6109\n"
     ]
    },
    {
     "name": "stderr",
     "output_type": "stream",
     "text": [
      "Epoch 52/1000: 100%|██████████| 98/98 [00:01<00:00, 94.04it/s] \n"
     ]
    },
    {
     "name": "stdout",
     "output_type": "stream",
     "text": [
      "Epoch 52/1000, Training Loss: 1.2928, Validation Loss: 1.7777\n"
     ]
    },
    {
     "name": "stderr",
     "output_type": "stream",
     "text": [
      "Epoch 53/1000: 100%|██████████| 98/98 [00:01<00:00, 95.75it/s]\n"
     ]
    },
    {
     "name": "stdout",
     "output_type": "stream",
     "text": [
      "Epoch 53/1000, Training Loss: 1.2814, Validation Loss: 1.7882\n"
     ]
    },
    {
     "name": "stderr",
     "output_type": "stream",
     "text": [
      "Epoch 54/1000: 100%|██████████| 98/98 [00:01<00:00, 96.19it/s]\n"
     ]
    },
    {
     "name": "stdout",
     "output_type": "stream",
     "text": [
      "Epoch 54/1000, Training Loss: 1.2660, Validation Loss: 1.9585\n"
     ]
    },
    {
     "name": "stderr",
     "output_type": "stream",
     "text": [
      "Epoch 55/1000: 100%|██████████| 98/98 [00:01<00:00, 92.68it/s]\n"
     ]
    },
    {
     "name": "stdout",
     "output_type": "stream",
     "text": [
      "Epoch 55/1000, Training Loss: 1.2749, Validation Loss: 2.1058\n"
     ]
    },
    {
     "name": "stderr",
     "output_type": "stream",
     "text": [
      "Epoch 56/1000: 100%|██████████| 98/98 [00:01<00:00, 88.05it/s]\n"
     ]
    },
    {
     "name": "stdout",
     "output_type": "stream",
     "text": [
      "Epoch 56/1000, Training Loss: 1.2945, Validation Loss: 2.2638\n"
     ]
    },
    {
     "name": "stderr",
     "output_type": "stream",
     "text": [
      "Epoch 57/1000: 100%|██████████| 98/98 [00:01<00:00, 93.55it/s]\n"
     ]
    },
    {
     "name": "stdout",
     "output_type": "stream",
     "text": [
      "Epoch 57/1000, Training Loss: 1.3007, Validation Loss: 2.3816\n"
     ]
    },
    {
     "name": "stderr",
     "output_type": "stream",
     "text": [
      "Epoch 58/1000: 100%|██████████| 98/98 [00:01<00:00, 96.31it/s]\n"
     ]
    },
    {
     "name": "stdout",
     "output_type": "stream",
     "text": [
      "Epoch 58/1000, Training Loss: 1.2448, Validation Loss: 2.5100\n"
     ]
    },
    {
     "name": "stderr",
     "output_type": "stream",
     "text": [
      "Epoch 59/1000: 100%|██████████| 98/98 [00:01<00:00, 95.34it/s]\n"
     ]
    },
    {
     "name": "stdout",
     "output_type": "stream",
     "text": [
      "Epoch 59/1000, Training Loss: 1.2614, Validation Loss: 2.6781\n"
     ]
    },
    {
     "name": "stderr",
     "output_type": "stream",
     "text": [
      "Epoch 60/1000: 100%|██████████| 98/98 [00:00<00:00, 98.43it/s] \n"
     ]
    },
    {
     "name": "stdout",
     "output_type": "stream",
     "text": [
      "Epoch 60/1000, Training Loss: 1.3011, Validation Loss: 2.8171\n",
      "Stopping early after 60 epochs due to no improvement in validation loss.\n"
     ]
    }
   ],
   "source": [
    "# Number of epochs and batch size\n",
    "num_epochs = 1000 # Number of training epochs\n",
    "batch_size = 32  # Batch size for training\n",
    "\n",
    "# DataLoader for training and validation\n",
    "train_loader = DataLoader(train_dataset, batch_size=batch_size, shuffle=True)  # Ensure batch size and shuffle\n",
    "val_loader = DataLoader(val_dataset, batch_size=batch_size, shuffle=False)  # No shuffle for validation\n",
    "\n",
    "# Track training and validation loss\n",
    "train_losses = []\n",
    "val_losses = []\n",
    "\n",
    "# For early stopping\n",
    "best_val_loss = float('inf')  # To track the best validation loss\n",
    "patience = 25  # Patience for early stopping\n",
    "no_improvement_count = 0  # Counter for epochs without improvement\n",
    "\n",
    "# scheduler = torch.optim.lr_scheduler.StepLR(optimizer, step_size=10, gamma=0.1)  # Decay LR every 10 epochs\n",
    "\n",
    "for epoch in range(num_epochs):\n",
    "    # Training phase with progress bar\n",
    "    dense_mos.train()  # Set model to training mode\n",
    "    train_loss = 0.0  # Initialize the training loss\n",
    "    \n",
    "    # Use tqdm for progress tracking\n",
    "    with tqdm(total=len(train_loader), desc=f\"Epoch {epoch + 1}/{num_epochs}\") as pbar:\n",
    "        for inputs, targets in train_loader:\n",
    "            inputs = inputs.to(device)  # Move inputs to the GPU\n",
    "            targets = targets.to(device)  # Move targets to the GPU\n",
    "\n",
    "            optimizer.zero_grad()  # Zero out the gradients\n",
    "            \n",
    "            outputs = dense_mos(inputs)  # Forward pass\n",
    "            loss = loss_fn(outputs, targets)  # Compute the loss\n",
    "            loss.backward()  # Backpropagation\n",
    "            \n",
    "            # Gradient clipping\n",
    "            torch.nn.utils.clip_grad_norm_(dense_mos.parameters(), 1.0)  # Adjust value if needed\n",
    "            \n",
    "            optimizer.step()  # Update the weights\n",
    "            \n",
    "            train_loss += loss.item()  # Accumulate the loss\n",
    "            \n",
    "            pbar.update(1)  # Update the progress bar\n",
    "\n",
    "    train_loss /= len(train_loader)  # Average loss over all batches\n",
    "    train_losses.append(train_loss)  # Save the training loss\n",
    "\n",
    "    # Validation phase\n",
    "    dense_mos.eval()  # Set model to evaluation mode\n",
    "    val_loss = 0.0  # Initialize the validation loss\n",
    "\n",
    "    with torch.no_grad():\n",
    "        for inputs, targets in val_loader:\n",
    "            inputs = inputs.to(device)  # Move inputs to the GPU\n",
    "            targets = targets.to(device)  # Move targets to the GPU\n",
    "\n",
    "            outputs = dense_mos(inputs)  # Forward pass\n",
    "            loss = loss_fn(outputs, targets)  # Calculate loss\n",
    "            val_loss += loss.item()  # Accumulate the validation loss\n",
    "\n",
    "    val_loss /= len(val_loader)  # Average validation loss over all batches\n",
    "    val_losses.append(val_loss)\n",
    "\n",
    "    print(f\"Epoch {epoch + 1}/{num_epochs}, Training Loss: {train_loss:.4f}, Validation Loss: {val_loss:.4f}\")\n",
    "    # scheduler.step() # Step the scheduler\n",
    "\n",
    "    # Check for improvement\n",
    "    if val_loss < best_val_loss:\n",
    "        best_val_loss = val_loss\n",
    "        torch.save(dense_mos.state_dict(), \"best_model.pth\")  # Save the best model\n",
    "        no_improvement_count = 0  # Reset counter\n",
    "    else:\n",
    "        no_improvement_count += 1  # Increment counter if no improvement\n",
    "\n",
    "    # Early stopping check\n",
    "    if no_improvement_count >= patience:\n",
    "        print(f\"Stopping early after {epoch + 1} epochs due to no improvement in validation loss.\")\n",
    "        break\n",
    "\n",
    "    # Save the best model based on validation loss\n",
    "    if val_loss < best_val_loss:\n",
    "        best_val_loss = val_loss\n",
    "        # Save the model (optional)\n",
    "        torch.save(dense_mos.state_dict(), \"best_model.pth\")\n",
    "\n",
    "    # Save the model at the end of training\n",
    "    torch.save(dense_mos.state_dict(), \"final_model.pth\")\n",
    "\n",
    "    # print the softmax of the weights of the weighted average layer\n",
    "    # print(dense_mos.weighted_average.weights)\n",
    "    # print(torch.nn.functional.softmax(dense_mos.weighted_average.weights, dim=0))\n",
    "# save train and val losses to csv\n",
    "losses = pd.DataFrame({'train_loss': train_losses, 'val_loss': val_losses})\n",
    "losses.to_csv('losses.csv', index=False)"
   ]
  },
  {
   "cell_type": "markdown",
   "metadata": {},
   "source": [
    "### plot"
   ]
  },
  {
   "cell_type": "code",
   "execution_count": 12,
   "metadata": {},
   "outputs": [
    {
     "data": {
      "image/png": "[encoded data removed]",
      "text/plain": [
       "<Figure size 640x480 with 1 Axes>"
      ]
     },
     "metadata": {},
     "output_type": "display_data"
    },
    {
     "name": "stdout",
     "output_type": "stream",
     "text": [
      "Best validation loss: 0.6708137094974518\n",
      "epoch for best validation loss: 34\n"
     ]
    }
   ],
   "source": [
    "losses = pd.read_csv('losses.csv')\n",
    "train_losses = losses['train_loss']\n",
    "val_losses = losses['val_loss']\n",
    "\n",
    "plt.plot(train_losses, label='train loss')\n",
    "plt.plot(val_losses, label='val loss')\n",
    "# set x-axis label\n",
    "plt.xlabel('epoch')\n",
    "# set y-axis label\n",
    "plt.ylabel('loss')\n",
    "plt.legend()\n",
    "plt.show()\n",
    "\n",
    "print(\"Best validation loss:\", best_val_loss)\n",
    "print(\"epoch for best validation loss:\", np.argmin(val_losses))"
   ]
  },
  {
   "cell_type": "code",
   "execution_count": 13,
   "metadata": {},
   "outputs": [
    {
     "data": {
      "image/png": "[encoded data removed]",
      "text/plain": [
       "<Figure size 640x480 with 1 Axes>"
      ]
     },
     "metadata": {},
     "output_type": "display_data"
    }
   ],
   "source": [
    "# plot the torch.nn.functional.softmax(dense_mos.weighted_average.weights, dim=0)\n",
    "# aka the layer number and its importance\n",
    "softmax_weights = torch.nn.functional.softmax(dense_mos.weighted_average.weights, dim=0).detach().cpu().numpy()\n",
    "\n",
    "#save the weights to a csv\n",
    "weights = pd.DataFrame({'softmax_weights': softmax_weights})\n",
    "weights.to_csv('softmax_weights.csv', index=False)\n",
    "\n",
    "plt.plot(softmax_weights, marker='v', linestyle='-', color='red', alpha=1, label='Softmax Weights')\n",
    "plt.xlabel('Layer depth')\n",
    "plt.xticks(range(13))\n",
    "# y label is alpha character, the greek letter, with a subindice \n",
    "plt.ylabel(r'$\\alpha_i$')\n",
    "plt.show()"
   ]
  },
  {
   "cell_type": "markdown",
   "metadata": {},
   "source": [
    "# Evaluation and Testing"
   ]
  },
  {
   "cell_type": "code",
   "execution_count": 14,
   "metadata": {},
   "outputs": [
    {
     "name": "stdout",
     "output_type": "stream",
     "text": [
      "Test Loss: 0.7599181056022644\n"
     ]
    }
   ],
   "source": [
    "# Create the testing DataLoader\n",
    "test_csv_path = \"/home/aleph/tesis/classifier/test.csv\"\n",
    "test_dataset = MOSDataset(test_csv_path, split='test')\n",
    "test_loader = DataLoader(test_dataset, batch_size=32, shuffle=False, num_workers=2)\n",
    "\n",
    "# Load the best model\n",
    "best_model_path = \"/home/aleph/tesis/classifier/DenseMOS_tests/final_model.pth\"\n",
    "dense_mos = DenseMOS(input_dim=768, hidden_dim=128, dropout_prob=0.6, num_layers=13)  # Ensure correct model initialization\n",
    "dense_mos.to(device)  # Move the model to the device\n",
    "dense_mos.load_state_dict(torch.load(best_model_path))  # Load the saved models\n",
    "dense_mos.eval()  # Set model to evaluation mode\n",
    "\n",
    "# Evaluate the model on the test set\n",
    "test_loader = DataLoader(test_dataset, batch_size=32, shuffle=False)  # DataLoader for testing\n",
    "test_loss = 0.0\n",
    "outputs_list = []\n",
    "targets_list = []\n",
    "with torch.no_grad():  # No gradients needed during evaluation\n",
    "    for inputs, targets in test_loader:\n",
    "        inputs = inputs.to(device)  # Move inputs to the GPU\n",
    "        targets = targets.to(device)  # Move targets to the GPU\n",
    "        outputs = dense_mos(inputs)  # Forward pass\n",
    "        outputs_list.append(outputs)\n",
    "        targets_list.append(targets)\n",
    "        loss = loss_fn(outputs, targets)  # Calculate loss\n",
    "        test_loss += loss.item()  # Accumulate the loss\n",
    "\n",
    "# Average test loss over all batches\n",
    "avg_test_loss = test_loss / len(test_loader)\n",
    "print(\"Test Loss:\", avg_test_loss)  # Evaluate the model's performance on the test set\n",
    "\n",
    "# Convert targets and outputs to NumPy arrays\n",
    "targets = np.squeeze(torch.cat(targets_list).cpu().numpy())\n",
    "outputs = np.squeeze(torch.cat(outputs_list).cpu().numpy())\n"
   ]
  },
  {
   "cell_type": "code",
   "execution_count": 177,
   "metadata": {},
   "outputs": [
    {
     "name": "stdout",
     "output_type": "stream",
     "text": [
      "Pearson's Correlation Coefficient: 0.03537287364385683\n",
      "Mean Absolute Error (MAE): 0.8567143\n",
      "Root Mean Squared Error (RMSE): 1.1906047\n",
      "R^2 Score: -0.9767362805970832\n"
     ]
    },
    {
     "name": "stderr",
     "output_type": "stream",
     "text": [
      "/home/aleph/tesis/.env/lib/python3.12/site-packages/sklearn/metrics/_regression.py:483: FutureWarning: 'squared' is deprecated in version 1.4 and will be removed in 1.6. To calculate the root mean squared error, use the function'root_mean_squared_error'.\n",
      "  warnings.warn(\n"
     ]
    }
   ],
   "source": [
    "# calculate pearson's correlation coefficient and targets_array, compute mae, mse, rmse and r2\n",
    "# between the predicted MOS scores and the ground truth MOS scores, aka the targets and outputs\n",
    "\n",
    "from sklearn.metrics import mean_absolute_error, mean_squared_error, r2_score\n",
    "from scipy.stats import pearsonr\n",
    "\n",
    "# Calculate Pearson's correlation coefficient\n",
    "pearson_corr = pearsonr(targets, outputs)\n",
    "print(\"Pearson's Correlation Coefficient:\", pearson_corr[0])\n",
    "\n",
    "# Calculate Mean Absolute Error (MAE)\n",
    "mae = mean_absolute_error(targets, outputs)\n",
    "print(\"Mean Absolute Error (MAE):\", mae)\n",
    "rmse = mean_squared_error(targets, outputs, squared=False)\n",
    "print(\"Root Mean Squared Error (RMSE):\", rmse)\n",
    "r2 = r2_score(targets, outputs)\n",
    "print(\"R^2 Score:\", r2)\n",
    "\n"
   ]
  },
  {
   "cell_type": "code",
   "execution_count": 23,
   "metadata": {},
   "outputs": [
    {
     "name": "stdout",
     "output_type": "stream",
     "text": [
      "Target: 1.50, Output: 1.42\n",
      "Target: 1.00, Output: 1.40\n",
      "Target: 1.00, Output: 1.14\n",
      "Target: 1.00, Output: 1.59\n",
      "Target: 2.00, Output: 1.30\n",
      "Target: 2.00, Output: 1.05\n",
      "Target: 1.00, Output: 1.32\n",
      "Target: 1.00, Output: 1.27\n",
      "Target: 2.00, Output: 1.26\n",
      "Target: 3.00, Output: 1.26\n",
      "Target: 3.00, Output: 1.18\n",
      "Target: 1.00, Output: 1.28\n",
      "Target: 1.00, Output: 1.45\n",
      "Target: 1.00, Output: 1.23\n",
      "Target: 3.00, Output: 1.63\n",
      "Target: 1.00, Output: 1.34\n",
      "Target: 1.00, Output: 1.48\n",
      "Target: 1.00, Output: 1.47\n",
      "Target: 1.50, Output: 1.11\n",
      "Target: 1.50, Output: 1.15\n",
      "Target: 1.00, Output: 1.56\n",
      "Target: 1.50, Output: 1.32\n",
      "Target: 1.00, Output: 1.32\n",
      "Target: 3.00, Output: 1.65\n",
      "Target: 2.00, Output: 1.94\n",
      "Target: 1.00, Output: 1.30\n",
      "Target: 1.00, Output: 1.20\n",
      "Target: 1.00, Output: 1.31\n",
      "Target: 1.00, Output: 1.28\n",
      "Target: 3.00, Output: 1.53\n",
      "Target: 2.00, Output: 1.35\n",
      "Target: 3.00, Output: 1.58\n",
      "Target: 2.00, Output: 1.24\n",
      "Target: 2.00, Output: 1.25\n",
      "Target: 1.00, Output: 1.34\n",
      "Target: 2.00, Output: 1.11\n",
      "Target: 2.00, Output: 1.51\n",
      "Target: 1.00, Output: 1.09\n",
      "Target: 3.00, Output: 1.45\n",
      "Target: 2.00, Output: 1.23\n",
      "Target: 3.00, Output: 1.07\n",
      "Target: 1.00, Output: 1.03\n",
      "Target: 1.00, Output: 1.57\n",
      "Target: 1.00, Output: 1.27\n",
      "Target: 1.50, Output: 0.99\n",
      "Target: 1.00, Output: 1.11\n",
      "Target: 1.00, Output: 1.01\n",
      "Target: 1.00, Output: 1.33\n",
      "Target: 1.50, Output: 1.62\n",
      "Target: 1.00, Output: 1.23\n",
      "Target: 2.00, Output: 1.40\n",
      "Target: 2.00, Output: 1.31\n",
      "Target: 1.00, Output: 1.31\n",
      "Target: 2.00, Output: 1.66\n",
      "Target: 3.00, Output: 1.27\n",
      "Target: 1.00, Output: 1.07\n",
      "Target: 1.00, Output: 1.34\n",
      "Target: 1.00, Output: 1.54\n",
      "Target: 1.00, Output: 1.19\n",
      "Target: 1.00, Output: 1.30\n",
      "Target: 1.00, Output: 1.19\n",
      "Target: 1.00, Output: 1.08\n",
      "Target: 2.00, Output: 0.92\n",
      "Target: 2.00, Output: 1.31\n",
      "Target: 3.00, Output: 1.32\n",
      "Target: 2.00, Output: 1.35\n",
      "Target: 2.50, Output: 1.35\n",
      "Target: 2.00, Output: 1.25\n",
      "Target: 1.00, Output: 1.27\n",
      "Target: 1.00, Output: 1.42\n",
      "Target: 1.00, Output: 1.57\n",
      "Target: 1.00, Output: 1.48\n",
      "Target: 1.00, Output: 1.51\n",
      "Target: 1.00, Output: 1.40\n",
      "Target: 1.00, Output: 1.37\n",
      "Target: 1.00, Output: 1.43\n",
      "Target: 1.00, Output: 1.47\n",
      "Target: 3.00, Output: 1.61\n",
      "Target: 1.00, Output: 1.37\n",
      "Target: 1.00, Output: 1.15\n",
      "Target: 1.00, Output: 0.98\n",
      "Target: 1.00, Output: 1.20\n",
      "Target: 1.00, Output: 1.28\n",
      "Target: 1.00, Output: 1.46\n",
      "Target: 1.00, Output: 1.04\n",
      "Target: 1.00, Output: 1.68\n",
      "Target: 1.00, Output: 1.45\n",
      "Target: 1.00, Output: 1.20\n",
      "Target: 2.00, Output: 1.42\n",
      "Target: 1.00, Output: 1.15\n",
      "Target: 2.00, Output: 1.99\n",
      "Target: 1.00, Output: 1.49\n",
      "Target: 1.00, Output: 1.79\n",
      "Target: 1.00, Output: 1.50\n",
      "Target: 1.00, Output: 1.28\n",
      "Target: 1.00, Output: 1.08\n",
      "Target: 1.00, Output: 1.78\n",
      "Target: 1.00, Output: 1.15\n",
      "Target: 1.00, Output: 1.35\n",
      "Target: 1.00, Output: 1.43\n",
      "Target: 1.00, Output: 1.35\n",
      "Target: 1.00, Output: 1.98\n",
      "Target: 1.00, Output: 1.08\n",
      "Target: 1.00, Output: 1.32\n",
      "Target: 1.00, Output: 1.24\n",
      "Target: 2.00, Output: 1.89\n",
      "Target: 1.00, Output: 1.95\n",
      "Target: 1.00, Output: 1.41\n",
      "Target: 1.00, Output: 1.34\n",
      "Target: 1.00, Output: 1.30\n",
      "Target: 1.00, Output: 1.23\n",
      "Target: 1.00, Output: 1.82\n",
      "Target: 1.00, Output: 1.54\n",
      "Target: 1.00, Output: 1.04\n",
      "Target: 1.00, Output: 1.07\n",
      "Target: 1.00, Output: 1.33\n",
      "Target: 1.00, Output: 0.97\n",
      "Target: 1.00, Output: 1.36\n",
      "Target: 1.00, Output: 1.39\n",
      "Target: 1.00, Output: 1.49\n",
      "Target: 3.00, Output: 1.84\n",
      "Target: 2.00, Output: 1.80\n",
      "Target: 1.00, Output: 2.23\n",
      "Target: 1.00, Output: 1.67\n",
      "Target: 1.00, Output: 1.28\n",
      "Target: 1.00, Output: 1.44\n",
      "Target: 1.00, Output: 1.20\n",
      "Target: 1.00, Output: 1.21\n",
      "Target: 1.00, Output: 1.86\n",
      "Target: 1.00, Output: 1.36\n",
      "Target: 2.00, Output: 1.27\n",
      "Target: 1.00, Output: 1.26\n",
      "Target: 1.00, Output: 1.18\n",
      "Target: 3.00, Output: 1.23\n",
      "Target: 2.00, Output: 1.55\n",
      "Target: 1.00, Output: 1.42\n",
      "Target: 1.00, Output: 1.74\n",
      "Target: 1.00, Output: 1.45\n",
      "Target: 1.00, Output: 1.03\n",
      "Target: 1.00, Output: 1.66\n",
      "Target: 1.00, Output: 1.30\n",
      "Target: 1.00, Output: 1.41\n",
      "Target: 1.00, Output: 1.29\n",
      "Target: 2.00, Output: 1.77\n",
      "Target: 1.00, Output: 1.27\n",
      "Target: 2.00, Output: 1.82\n",
      "Target: 2.00, Output: 1.35\n",
      "Target: 2.00, Output: 1.24\n",
      "Target: 1.00, Output: 1.42\n",
      "Target: 1.00, Output: 1.10\n",
      "Target: 1.00, Output: 1.25\n",
      "Target: 1.00, Output: 1.49\n",
      "Target: 1.00, Output: 1.89\n",
      "Target: 1.00, Output: 1.27\n",
      "Target: 1.00, Output: 1.97\n",
      "Target: 1.00, Output: 1.70\n",
      "Target: 1.00, Output: 0.86\n",
      "Target: 2.00, Output: 1.35\n",
      "Target: 2.00, Output: 1.28\n",
      "Target: 2.00, Output: 1.09\n",
      "Target: 1.00, Output: 1.51\n",
      "Target: 1.00, Output: 1.28\n",
      "Target: 1.50, Output: 1.05\n",
      "Target: 3.00, Output: 1.26\n",
      "Target: 1.00, Output: 1.42\n",
      "Target: 1.00, Output: 1.29\n",
      "Target: 2.00, Output: 1.10\n",
      "Target: 2.00, Output: 1.43\n",
      "Target: 2.00, Output: 1.04\n",
      "Target: 2.00, Output: 1.25\n",
      "Target: 1.50, Output: 1.58\n",
      "Target: 1.00, Output: 1.26\n",
      "Target: 4.00, Output: 1.12\n",
      "Target: 2.00, Output: 1.13\n",
      "Target: 2.00, Output: 1.09\n",
      "Target: 1.00, Output: 1.16\n",
      "Target: 1.00, Output: 1.17\n",
      "Target: 2.00, Output: 1.10\n",
      "Target: 1.00, Output: 1.25\n",
      "Target: 4.00, Output: 1.17\n",
      "Target: 2.00, Output: 2.05\n",
      "Target: 2.00, Output: 1.37\n",
      "Target: 3.00, Output: 1.47\n",
      "Target: 2.00, Output: 1.23\n",
      "Target: 3.00, Output: 1.14\n",
      "Target: 4.00, Output: 1.63\n",
      "Target: 2.00, Output: 1.35\n",
      "Target: 1.00, Output: 1.37\n",
      "Target: 2.00, Output: 1.21\n",
      "Target: 2.00, Output: 1.40\n",
      "Target: 3.00, Output: 1.52\n",
      "Target: 1.00, Output: 1.48\n",
      "Target: 2.00, Output: 1.62\n",
      "Target: 1.00, Output: 1.29\n",
      "Target: 2.00, Output: 1.24\n",
      "Target: 2.00, Output: 1.12\n",
      "Target: 3.00, Output: 1.16\n",
      "Target: 2.00, Output: 1.50\n",
      "Target: 2.00, Output: 1.18\n",
      "Target: 1.00, Output: 1.32\n"
     ]
    }
   ],
   "source": [
    "# print target and outputs side by side\n",
    "for i in range(200):\n",
    "    print(f\"Target: {targets[i]:.2f}, Output: {outputs[i]:.2f}\")"
   ]
  }
 ],
 "metadata": {
  "kernelspec": {
   "display_name": ".env",
   "language": "python",
   "name": "python3"
  },
  "language_info": {
   "codemirror_mode": {
    "name": "ipython",
    "version": 3
   },
   "file_extension": ".py",
   "mimetype": "text/x-python",
   "name": "python",
   "nbconvert_exporter": "python",
   "pygments_lexer": "ipython3",
   "version": "3.12.3"
  }
 },
 "nbformat": 4,
 "nbformat_minor": 2
}
