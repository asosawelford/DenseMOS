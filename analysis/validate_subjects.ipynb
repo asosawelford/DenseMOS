{
 "cells": [
  {
   "cell_type": "code",
   "execution_count": 1,
   "metadata": {},
   "outputs": [],
   "source": [
    "import pandas as pd"
   ]
  },
  {
   "cell_type": "code",
   "execution_count": 2,
   "metadata": {},
   "outputs": [],
   "source": [
    "results = pd.read_csv('/home/aleph/tesis/analysis/subjective_results_corrected.csv')"
   ]
  },
  {
   "cell_type": "code",
   "execution_count": 9,
   "metadata": {},
   "outputs": [
    {
     "name": "stdout",
     "output_type": "stream",
     "text": [
      "             participant_id  age gender_participant country      province  \\\n",
      "606  vj735xlt2yj805wyn5rimq   59                  F      AR  Buenos Aires   \n",
      "\n",
      "     education headphone_brand  \\\n",
      "606          2             NaN   \n",
      "\n",
      "                                               stimuli  score stimuli_group  \\\n",
      "606  /home/aleph/tesis/frontend/public/assets/stimu...    1.0            E1   \n",
      "\n",
      "    stimuli_service gender_stimuli dialect  mos_pred         model  \n",
      "606     Open_ar_f_1              F     ARG  3.557661  NISQA_TTS_v1  \n"
     ]
    }
   ],
   "source": [
    "# print audios where \"stimuli_service\" column begins with \"Open\"\n",
    "\n",
    "open_audios = results[results['stimuli_service'].str.startswith('Open')]\n",
    "# print stimuli service and score columns\n",
    "# print(open_audios[['stimuli_service', 'score']])\n",
    "# check if there are any audios with score 1\n",
    "print(open_audios[open_audios['score'] == 1])"
   ]
  }
 ],
 "metadata": {
  "kernelspec": {
   "display_name": ".env",
   "language": "python",
   "name": "python3"
  },
  "language_info": {
   "codemirror_mode": {
    "name": "ipython",
    "version": 3
   },
   "file_extension": ".py",
   "mimetype": "text/x-python",
   "name": "python",
   "nbconvert_exporter": "python",
   "pygments_lexer": "ipython3",
   "version": "3.12.4"
  }
 },
 "nbformat": 4,
 "nbformat_minor": 2
}
