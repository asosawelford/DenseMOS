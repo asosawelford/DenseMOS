{
 "cells": [
  {
   "cell_type": "code",
   "execution_count": 16,
   "metadata": {},
   "outputs": [],
   "source": [
    "#read subjective results from a csv file\n",
    "\n",
    "import pandas as pd\n",
    "\n",
    "results = pd.read_csv('subjective_results_corrected.csv', sep=',', header=0)\n",
    "\n",
    "results.head()\n",
    "\n",
    "#only keep the columns we need: stimuli, score, stimuli_group\n",
    "\n",
    "results = results[[ 'stimuli_group','stimuli', 'score',]]\n",
    "\n",
    "results.head()\n",
    "\n",
    "\n",
    "test_set_group = [\"A4\",\"A6\",\"B8\",\"B9\",\"C6\",\"C7\",\"D9\",\"D10\",\"E9\",\"E10\"]\n",
    "test_set = pd.DataFrame()\n",
    "\n",
    "#drop columns if they are in the test set group, and create a new dataframe with only the train set\n",
    "\n",
    "for voice in test_set_group:\n",
    "    # Find rows that contain the current voice\n",
    "    mask = results['stimuli'].str.contains(voice)\n",
    "\n",
    "    # Append matching rows to the test set\n",
    "    test_set = pd.concat([test_set, results[mask]])\n",
    "\n",
    "    results = results[~results['stimuli'].str.contains(voice)]\n",
    "\n",
    "#change the name of the column, stimuli_group to db\n",
    "results = results.rename(columns={'stimuli_group': 'db'})\n",
    "results = results.rename(columns={'stimuli': 'filepath_deg'})\n",
    "results = results.rename(columns={'score': 'mos'})\n",
    "\n",
    "test_set = test_set.rename(columns={'stimuli_group': 'db'})\n",
    "test_set = test_set.rename(columns={'stimuli': 'filepath_deg'})\n",
    "test_set = test_set.rename(columns={'score': 'mos'})\n",
    "\n",
    "#save\n",
    "\n",
    "results.to_csv('train_set.csv', sep=',', header=True, index=False)\n",
    "test_set.to_csv('test_set.csv', sep=',', header=True, index=False)\n"
   ]
  }
 ],
 "metadata": {
  "kernelspec": {
   "display_name": "base",
   "language": "python",
   "name": "python3"
  },
  "language_info": {
   "codemirror_mode": {
    "name": "ipython",
    "version": 3
   },
   "file_extension": ".py",
   "mimetype": "text/x-python",
   "name": "python",
   "nbconvert_exporter": "python",
   "pygments_lexer": "ipython3",
   "version": "3.9.15"
  }
 },
 "nbformat": 4,
 "nbformat_minor": 2
}
