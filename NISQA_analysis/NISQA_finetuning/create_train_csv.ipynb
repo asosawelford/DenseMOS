{
 "cells": [
  {
   "cell_type": "markdown",
   "metadata": {},
   "source": [
    "# 1st version"
   ]
  },
  {
   "cell_type": "code",
   "execution_count": 16,
   "metadata": {},
   "outputs": [],
   "source": [
    "#read subjective results from a csv file\n",
    "\n",
    "import pandas as pd\n",
    "\n",
    "results = pd.read_csv('subjective_results_corrected.csv', sep=',', header=0)\n",
    "\n",
    "results.head()\n",
    "\n",
    "#only keep the columns we need: stimuli, score, stimuli_group\n",
    "\n",
    "results = results[[ 'stimuli_group','stimuli', 'score',]]\n",
    "\n",
    "results.head()\n",
    "\n",
    "\n",
    "test_set_group = [\"A4\",\"A6\",\"B8\",\"B9\",\"C6\",\"C7\",\"D9\",\"D10\",\"E9\",\"E10\"]\n",
    "test_set = pd.DataFrame()\n",
    "\n",
    "#drop columns if they are in the test set group, and create a new dataframe with only the train set\n",
    "\n",
    "for voice in test_set_group:\n",
    "    # Find rows that contain the current voice\n",
    "    mask = results['stimuli'].str.contains(voice)\n",
    "\n",
    "    # Append matching rows to the test set\n",
    "    test_set = pd.concat([test_set, results[mask]])\n",
    "\n",
    "    results = results[~results['stimuli'].str.contains(voice)]\n",
    "\n",
    "#change the name of the column, stimuli_group to db\n",
    "results = results.rename(columns={'stimuli_group': 'db'})\n",
    "results = results.rename(columns={'stimuli': 'filepath_deg'})\n",
    "results = results.rename(columns={'score': 'mos'})\n",
    "\n",
    "test_set = test_set.rename(columns={'stimuli_group': 'db'})\n",
    "test_set = test_set.rename(columns={'stimuli': 'filepath_deg'})\n",
    "test_set = test_set.rename(columns={'score': 'mos'})\n",
    "\n",
    "#save\n",
    "\n",
    "results.to_csv('train_set.csv', sep=',', header=True, index=False)\n",
    "test_set.to_csv('test_set.csv', sep=',', header=True, index=False)\n"
   ]
  },
  {
   "cell_type": "markdown",
   "metadata": {},
   "source": [
    "# 2nd version"
   ]
  },
  {
   "cell_type": "code",
   "execution_count": 3,
   "metadata": {},
   "outputs": [],
   "source": [
    "import pandas as pd\n",
    "\n",
    "# read train and test set\n",
    "train_set = pd.read_csv('train_set.csv', sep=',', header=0)\n",
    "test_set = pd.read_csv('test_set.csv', sep=',', header=0)"
   ]
  },
  {
   "cell_type": "code",
   "execution_count": 4,
   "metadata": {},
   "outputs": [],
   "source": [
    "# replace all values in the db column with \"train\" and \"test\"\n",
    "train_set['db'] = \"train\"\n",
    "test_set['db'] = \"test\"\n",
    "\n",
    "# merge the two dataframes\n",
    "merged = pd.concat([train_set, test_set])\n",
    "\n",
    "# save the merged dataframe\n",
    "merged.to_csv('merged.csv', sep=',', header=True, index=False)"
   ]
  },
  {
   "cell_type": "markdown",
   "metadata": {},
   "source": [
    "# check split"
   ]
  },
  {
   "cell_type": "code",
   "execution_count": 1,
   "metadata": {},
   "outputs": [
    {
     "name": "stdout",
     "output_type": "stream",
     "text": [
      "db\n",
      "train    3473\n",
      "val       443\n",
      "test      420\n",
      "Name: count, dtype: int64\n",
      "      db                                  filepath_deg  mos\n",
      "0  train  /stimuli_norm/E/E2/arf_00610_00913913795.wav    5\n",
      "1  train  /stimuli_norm/E/E2/arf_00610_00546762557.wav    5\n",
      "2  train  /stimuli_norm/E/E2/arf_00610_00621699750.wav    5\n",
      "3  train  /stimuli_norm/E/E2/arf_00610_00912390302.wav    4\n",
      "4  train  /stimuli_norm/E/E2/arf_00610_01772510223.wav    4\n"
     ]
    }
   ],
   "source": [
    "import pandas as pd\n",
    "\n",
    "merged_set = pd.read_csv('merged.csv', sep=',', header=0)\n",
    "# count amount of rows in th db column that correspond to \"train\", \"val\" and \"test\"\n",
    "print(merged_set['db'].value_counts())\n",
    "print(merged_set.head())"
   ]
  }
 ],
 "metadata": {
  "kernelspec": {
   "display_name": "base",
   "language": "python",
   "name": "python3"
  },
  "language_info": {
   "codemirror_mode": {
    "name": "ipython",
    "version": 3
   },
   "file_extension": ".py",
   "mimetype": "text/x-python",
   "name": "python",
   "nbconvert_exporter": "python",
   "pygments_lexer": "ipython3",
   "version": "3.9.15"
  }
 },
 "nbformat": 4,
 "nbformat_minor": 2
}
