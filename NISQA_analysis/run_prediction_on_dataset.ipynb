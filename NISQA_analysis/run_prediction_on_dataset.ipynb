{
 "cells": [
  {
   "cell_type": "markdown",
   "metadata": {},
   "source": [
    "# Run NISQA command line prediction \n",
    "\n",
    "Step 0. Install NISQA and its dependencies. See [README.md] \n",
    "Step 1. conda activate nisqa\n",
    "\n",
    "Possible command line predictions:\n",
    "\n",
    "Single file:\n",
    "python run_predict.py --mode predict_file --pretrained_model weights/nisqa_tts.tar --deg /home/aleph/tesis/frontend/public/assets/stimuli_norm/A/A1/0.wav --output_dir /home/aleph/tesis/NISQA_analysis/test_results\n",
    "\n",
    "Folder:\n",
    "python run_predict.py --mode predict_dir --pretrained_model weights/nisqa_tts.tar --data_dir /home/aleph/tesis/frontend/public/assets/stimuli_norm/A/A1 --num_workers 0 --bs 10 --output_dir /home/aleph/tesis/NISQA_analysis/test_results\n",
    "\n",
    "CSV:\n",
    "python run_predict.py --mode predict_csv --pretrained_model weights/nisqa_tts.tar --csv_file /home/aleph/tesis/classifier/test.csv --csv_deg stimuli --num_workers 0 --bs 10 --output_dir /home/aleph/tesis/NISQA_analysis/NISQA_results_no_finetuning"
   ]
  },
  {
   "cell_type": "markdown",
   "metadata": {},
   "source": [
    "\n",
    "CSV: finetuned\n",
    "python run_predict.py --mode predict_csv --pretrained_model weights/finetune_NISQA_1_240202_231745103513.tar --csv_file /home/aleph/tesis/NISQA_analysis/NISQA_finetuning/test_set.csv --csv_deg stimuli --num_workers 0 --bs 10 --output_dir /home/aleph/tesis/NISQA_analysis/NISQA_finetuning/test"
   ]
  },
  {
   "cell_type": "code",
   "execution_count": null,
   "metadata": {
    "vscode": {
     "languageId": "plaintext"
    }
   },
   "outputs": [],
   "source": [
    "folder, fintuned:\n",
    "\n",
    "python run_predict.py --mode predict_dir --pretrained_model weights/finetune_NISQA_1_240202_231745103513.tar --data_dir /home/aleph/tesis/weather/es-ar --output_dir /home/aleph/tesis/"
   ]
  },
  {
   "cell_type": "markdown",
   "metadata": {},
   "source": [
    "### commands:\n",
    "\n",
    "python run_predict.py --mode predict_csv --pretrained_model weights/nisqa_tts.tar --csv_file /home/aleph/tesis/classifier/test.csv --csv_deg stimuli --num_workers 0 --bs 10 --output_dir /home/aleph/tesis/NISQA_analysis/NISQA_results_no_finetuning\n",
    "\n",
    "python run_predict.py --mode predict_csv --pretrained_model weights/nisqa_mos_only.tar --csv_file /home/aleph/tesis/classifier/test.csv --csv_deg stimuli --num_workers 0 --bs 10 --output_dir /home/aleph/tesis/NISQA_analysis/NISQA_results_no_finetuning\n",
    "\n",
    "python run_predict.py --mode predict_csv --pretrained_model ../NISQA_analysis/finetuned_model/train_2_240603_002927327132/train_2_240603_002927327132__ep_028.tar --csv_file /home/aleph/tesis/NISQA_analysis/test_nisqa.csv --csv_deg stimuli -output_dir /home/aleph/tesis/NISQA_analysis/NISQA_analysis/test_results\n",
    "\n",
    "\n",
    "single_file\n",
    "python run_predict.py --mode predict_file --pretrained_model ../NISQA_analysis/finetuned_model/finetune_3_240603_012041803191/finetune_3_240603_012041803191__ep_036.tar --deg /home/aleph/tesis/frontend/public/assets/stimuli_norm/A/A1/0.wav --output_dir /home/aleph/tesis/NISQA_analysis/test_results\n",
    "\n"
   ]
  }
 ],
 "metadata": {
  "language_info": {
   "name": "python"
  }
 },
 "nbformat": 4,
 "nbformat_minor": 2
}
