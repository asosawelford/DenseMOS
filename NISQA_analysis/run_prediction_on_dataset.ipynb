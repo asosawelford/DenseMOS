{
 "cells": [
  {
   "cell_type": "markdown",
   "metadata": {},
   "source": []
  },
  {
   "cell_type": "markdown",
   "metadata": {},
   "source": [
    "# Run NISQA command line prediction \n",
    "\n",
    "Step 0. Install NISQA and its dependencies. See [README.md] \n",
    "Step 1. conda activate nisqa\n",
    "\n",
    "Possible command line predictions:\n",
    "\n",
    "Single file:\n",
    "python run_predict.py --mode predict_file --pretrained_model weights/nisqa_tts.tar --deg /home/udesa_ubuntu/tesis/frontend/public/assets/stimuli/A/A1/0.wav --output_dir /home/udesa_ubuntu/tesis/NISQA_analysis/test_results\n",
    "\n",
    "Folder:\n",
    "python run_predict.py --mode predict_dir --pretrained_model weights/nisqa_tts.tar --data_dir /home/udesa_ubuntu/tesis/frontend/public/assets/stimuli/A/A1 --num_workers 0 --bs 10 --output_dir /home/udesa_ubuntu/tesis/NISQA_analysis/test_results\n",
    "\n",
    "CSV:\n",
    "python run_predict.py --mode predict_csv --pretrained_model weights/nisqa_tts.tar --csv_file /home/udesa_ubuntu/tesis/NISQA_analysis/path_to_files.csv --csv_deg stimuli --num_workers 0 --bs 10 --output_dir /home/udesa_ubuntu/tesis/NISQA_analysis/NISQA_results_no_finetuning_training"
   ]
  }
 ],
 "metadata": {
  "language_info": {
   "name": "python"
  }
 },
 "nbformat": 4,
 "nbformat_minor": 2
}
