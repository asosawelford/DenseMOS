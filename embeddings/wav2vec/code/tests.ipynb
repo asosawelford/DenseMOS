{
 "cells": [
  {
   "cell_type": "markdown",
   "metadata": {},
   "source": [
    "### Example"
   ]
  },
  {
   "cell_type": "code",
   "execution_count": 1,
   "metadata": {},
   "outputs": [
    {
     "name": "stderr",
     "output_type": "stream",
     "text": [
      "/home/udesa_ubuntu/tesis/.venv/lib/python3.9/site-packages/tqdm/auto.py:21: TqdmWarning: IProgress not found. Please update jupyter and ipywidgets. See https://ipywidgets.readthedocs.io/en/stable/user_install.html\n",
      "  from .autonotebook import tqdm as notebook_tqdm\n"
     ]
    }
   ],
   "source": [
    "import os\n",
    "import librosa\n",
    "import torch\n",
    "from transformers import Wav2Vec2FeatureExtractor, Wav2Vec2Model\n",
    "from pathlib import Path\n",
    "import pandas as pd\n",
    "import seaborn as sns\n",
    "import matplotlib.pyplot as plt\n",
    "import umap\n",
    "import numpy as np\n",
    "from tqdm.auto import tqdm\n",
    "tqdm.pandas()"
   ]
  },
  {
   "cell_type": "code",
   "execution_count": 54,
   "metadata": {},
   "outputs": [],
   "source": [
    "def construct_embedding_path(audio_path):\n",
    "    removal = r\"/\"\n",
    "    reverse_removal = removal[::-1]\n",
    "\n",
    "    replacement = \"_\"\n",
    "    reverse_replacement = replacement[::-1]\n",
    "\n",
    "    return audio_path[::-1].replace(reverse_removal, reverse_replacement, 1)[::-1]"
   ]
  },
  {
   "cell_type": "code",
   "execution_count": 55,
   "metadata": {},
   "outputs": [],
   "source": [
    "def wav2vec_embeddings(path_to_csv, model_name, output_folder):\n",
    "    feature_extractor = Wav2Vec2FeatureExtractor.from_pretrained(model_name)\n",
    "    model = Wav2Vec2Model.from_pretrained(model_name)\n",
    "    metadata_df = pd.read_csv(path_to_csv)\n",
    "    # iterate over each path in \"stimuli\" column\n",
    "    for index, row in tqdm(metadata_df.iterrows()):\n",
    "        audio_file = row['stimuli']\n",
    "        stimuli_group = row['stimuli_group']\n",
    "        input_audio, sample_rate = librosa.load(audio_file, sr=16000)\n",
    "        inputs = feature_extractor(input_audio, return_tensors=\"pt\", sampling_rate=sample_rate)\n",
    "        with torch.no_grad():\n",
    "            outputs= model(inputs.input_values)\n",
    "        embeddings = outputs.last_hidden_state\n",
    "        embeddings = embeddings.mean(dim=1)\n",
    "        embeddings = embeddings.squeeze().detach().numpy()\n",
    "        \n",
    "        audio_file = construct_embedding_path(audio_file)\n",
    "\n",
    "        output_file = Path(output_folder) / Path(audio_file).with_suffix('.npy').name\n",
    "        np.save(output_file, embeddings)\n"
   ]
  },
  {
   "cell_type": "code",
   "execution_count": 66,
   "metadata": {},
   "outputs": [
    {
     "name": "stderr",
     "output_type": "stream",
     "text": [
      "Some weights of Wav2Vec2Model were not initialized from the model checkpoint at facebook/wav2vec2-base-960h and are newly initialized: ['wav2vec2.encoder.pos_conv_embed.conv.parametrizations.weight.original0', 'wav2vec2.encoder.pos_conv_embed.conv.parametrizations.weight.original1', 'wav2vec2.masked_spec_embed']\n",
      "You should probably TRAIN this model on a down-stream task to be able to use it for predictions and inference.\n",
      "4326it [17:47,  4.05it/s]\n"
     ]
    }
   ],
   "source": [
    "output_folder = '/home/udesa_ubuntu/tesis/database_16k/wav2vec2-base-960h_test/'\n",
    "path_to_csv = \"/home/udesa_ubuntu/tesis/analysis/subjective_results_corrected_test.csv\"\n",
    "wav2vec_embeddings(path_to_csv, 'facebook/wav2vec2-base-960h',output_folder)"
   ]
  },
  {
   "cell_type": "code",
   "execution_count": null,
   "metadata": {},
   "outputs": [],
   "source": [
    "input_audio, sample_rate = librosa.load(\"/home/udesa_ubuntu/Desktop/tesis_16k/E/E1/arf_00295_01505677428.wav\",  sr=16000)\n",
    "\n",
    "model_name = \"facebook/wav2vec2-base-960h\"\n",
    "feature_extractor = Wav2Vec2FeatureExtractor.from_pretrained(model_name)\n",
    "model = Wav2Vec2Model.from_pretrained(model_name)\n",
    "\n",
    "i= feature_extractor(input_audio, return_tensors=\"pt\", sampling_rate=sample_rate)\n",
    "with torch.no_grad():\n",
    "  # o= model(i.input_values, output_hidden_states=True)\n",
    "  o= model(i.input_values)\n",
    "print(o.keys())\n",
    "print(o.last_hidden_state.shape)\n",
    "\n"
   ]
  },
  {
   "cell_type": "code",
   "execution_count": 86,
   "metadata": {},
   "outputs": [
    {
     "name": "stdout",
     "output_type": "stream",
     "text": [
      "[-5.36682531e-02  3.16285249e-03  1.17891848e-01 -3.47899757e-02\n",
      "  4.59705032e-02 -6.35065809e-02  1.18094929e-01 -2.74010077e-02\n",
      "  5.74341826e-02 -2.36898363e-01 -1.96603835e-02  5.79130761e-02\n",
      "  1.13506103e-02  3.25678028e-02 -1.75843000e-01  3.56553644e-02\n",
      " -5.52934170e-01  3.11081618e-01  2.09144931e-02  3.54072228e-02\n",
      " -1.93808496e-01  7.08136559e-02  3.48796338e-01 -1.53719550e-02\n",
      "  2.32790887e-01  4.23583128e-02 -7.94578910e-01  3.76783535e-02\n",
      " -9.74217579e-02 -2.19889849e-01  1.85472608e-01 -9.10315290e-03\n",
      " -9.12647620e-02 -9.53401849e-02 -1.86425164e-01  3.93352471e-02\n",
      "  8.73979239e-04 -1.91483453e-01 -1.43501356e-01  1.03017613e-02\n",
      " -1.00000031e-01 -8.42373148e-02 -3.03488165e-01  3.67968202e-01\n",
      " -2.42720053e-01  2.36746863e-01 -5.83007466e-03  1.24223158e-01\n",
      "  1.86980646e-02  3.36314142e-02 -9.14822817e-02 -5.78412563e-02\n",
      " -2.66259909e-01 -2.05723457e-02 -1.70382895e-02 -8.10519233e-02\n",
      " -3.95600572e-02 -4.10614282e-01 -2.00252324e-01 -7.69163966e-02\n",
      "  6.15550689e-02 -1.50183007e-01  1.73358489e-02  3.09582353e-01\n",
      " -2.93587018e-02  1.29445672e-01 -3.91911948e-03 -1.72129795e-01\n",
      " -2.67547101e-01 -1.15977488e-02 -1.28524723e-02 -2.64683701e-02\n",
      " -1.29154757e-01 -6.96009398e-02  3.21602970e-02 -1.55944498e-02\n",
      "  2.75279246e-02 -5.29784225e-02 -3.68450508e-02  8.96756724e-02\n",
      " -1.79464847e-01  3.54544520e-01  5.34854047e-02 -5.69051169e-02\n",
      " -1.84527189e-02 -1.13083325e-01 -1.16881564e-01 -2.17142344e-01\n",
      " -1.01459408e-02 -2.60742065e-02  4.92058158e-01 -1.69413283e-01\n",
      "  1.51272431e-01 -3.36054713e-03  6.13045916e-02 -6.48422539e-02\n",
      "  2.36176670e-01  6.71547055e-02 -4.53071222e-02 -1.33698182e-02\n",
      " -6.45152330e-02 -1.05594389e-01  6.52510151e-02 -1.87184319e-01\n",
      "  1.42068058e-01  3.75863403e-01 -1.01549946e-01  1.20521411e-01\n",
      "  9.28566605e-03  1.32307574e-01  1.89871266e-02 -2.96253636e-02\n",
      " -6.50057197e-02  1.42162964e-02 -2.03486249e-01  1.48675274e-02\n",
      "  1.66846775e-02 -1.07137650e-01 -5.40588014e-02 -9.49495472e-03\n",
      "  1.13935865e-01 -4.27408926e-02  1.44885302e-01  6.75944239e-03\n",
      " -2.00477932e-02 -1.87536106e-01  6.92324936e-02  2.33492151e-01\n",
      " -1.09060578e-01  1.35860309e-01  7.16826245e-02 -8.64310563e-03\n",
      " -1.63157076e-01  6.78443909e-02 -1.13640949e-01 -6.45016953e-02\n",
      " -2.60788709e-01 -3.38792964e-03  1.31447045e-02 -9.54248190e-01\n",
      "  1.14256356e-04 -4.03088331e-02 -1.17789386e-02  3.62865001e-01\n",
      "  4.86293472e-02 -6.45270869e-02 -8.84910941e-01  1.21472925e-01\n",
      " -2.33104303e-01  5.84085099e-02  2.32779548e-01  2.00881660e-01\n",
      "  1.11795865e-01 -2.26736814e-01  5.96902426e-03 -4.94562313e-02\n",
      "  6.05892129e-02  5.15351146e-02  1.99556977e-01 -1.43199340e-01\n",
      " -1.28750592e-01  2.40830168e-01  2.37198591e-01 -3.81397344e-02\n",
      "  9.66709480e-02 -5.26825786e-02 -9.26369205e-02 -6.52593374e-02\n",
      "  5.83128631e-01  2.50637889e-01  3.37179452e-02 -2.55197641e-02\n",
      "  9.81065333e-02  1.74358770e-01 -5.21761272e-03 -3.94794822e-01\n",
      " -2.52468467e-01  7.86579959e-03  9.93162766e-03  6.13069907e-03\n",
      "  1.09907333e-03  1.31940721e-02 -3.57255116e-02 -2.23915383e-01\n",
      " -1.23574752e-02 -3.60528491e-02 -7.45223090e-02 -3.88322353e-01\n",
      " -1.26368985e-01  1.06986992e-01 -1.03043385e-01 -4.89388332e-02\n",
      " -1.76871996e-02 -2.53991364e-03 -2.32917052e-02  1.39853716e-01\n",
      " -9.64505523e-02  2.72592992e-01 -2.27412228e-02 -3.59277651e-02\n",
      "  1.74699035e-02  2.02926733e-02 -3.41282308e-01  4.94982339e-02\n",
      " -8.99247676e-02  3.70311171e-01 -2.97056139e-02 -4.33931686e-02\n",
      "  1.41655982e-01  3.01402420e-01 -7.92364717e-01  4.78952266e-02\n",
      " -5.38996281e-03  4.40204442e-02  2.96446774e-02 -6.60106689e-02\n",
      "  1.55474814e-02 -2.05726743e-01  4.04582173e-03  8.68701860e-02\n",
      " -6.22947738e-02 -4.79841717e-02 -1.09911211e-01 -4.60291319e-02\n",
      " -1.42479956e-01  1.43042384e-02 -5.49837993e-03  2.08993047e-01\n",
      " -1.32988274e-01  7.60369934e-03  3.18025112e-01 -5.12638167e-02\n",
      "  4.89712059e-02 -5.13164476e-02 -5.61045073e-02 -3.17550711e-02\n",
      "  2.39800336e-03 -2.42736889e-03  2.88353823e-02 -1.69647008e-01\n",
      "  2.01693237e-01 -4.19432044e-01 -3.24246660e-02 -2.77368538e-02\n",
      " -3.87992561e-01  2.07897816e-02 -1.75453369e-02  1.74060509e-01\n",
      "  9.20215994e-02 -3.75971466e-01 -2.68913861e-02  2.17144087e-01\n",
      " -9.93840396e-04  5.00582382e-02 -2.22518947e-03  1.20838217e-01\n",
      " -2.86504775e-01  1.56927109e-01  6.26382604e-02 -1.73217043e-01\n",
      "  8.62589199e-03 -3.21915746e-02 -7.11935088e-02  2.72613466e-02\n",
      " -3.15114886e-01  7.92771578e-02 -2.26044804e-02 -3.79876718e-02\n",
      " -1.94426887e-02 -2.52198160e-01 -7.67834531e-03  1.11077651e-01\n",
      " -3.39517705e-02  1.26901511e-02 -1.31127492e-01 -4.88363430e-02\n",
      "  5.52952802e-03  4.31306474e-02 -4.67183441e-02  4.46284831e-01\n",
      " -1.08185150e-01  1.06615476e-01 -1.94569654e-03  8.86540040e-02\n",
      "  8.96934196e-02 -2.27240860e-01  5.07944562e-02  6.29370511e-02\n",
      " -2.39868850e-01  2.24040464e-01 -2.51476377e-01 -3.37888539e-01\n",
      " -8.62602517e-03  7.96039701e-02  1.32597992e-02  6.20997101e-02\n",
      " -1.38443767e-03 -2.33370019e-03  2.03182891e-01  1.38530834e-02\n",
      " -2.50014104e-02 -5.93212724e-01 -2.38846228e-01  1.15375277e-02\n",
      "  4.79247533e-02 -5.89948632e-02  2.22486421e-01 -6.15605526e-02\n",
      " -7.30209798e-03 -2.11578399e-01  2.24948183e-01 -1.15978092e-01\n",
      " -6.89006001e-02  3.40116203e-01  1.27286047e-01 -6.02806024e-02\n",
      " -7.20092580e-02 -8.47361013e-02 -6.62492290e-02  2.14489818e-01\n",
      " -1.56681433e-01  8.80885273e-02  8.38325024e-02 -2.44867858e-02\n",
      " -8.18485245e-02 -5.67323081e-02 -1.38130113e-01  2.43352950e-02\n",
      "  9.56448466e-02 -6.35303259e-02 -2.61427015e-02 -7.85952285e-02\n",
      "  1.55563792e-02  3.13357413e-02  1.59855053e-01  7.66062066e-02\n",
      " -9.04646665e-02  1.57487057e-02 -7.02213794e-02 -3.84272747e-02\n",
      " -2.06049308e-01  4.54427190e-02 -3.20155293e-01 -1.04041845e-01\n",
      "  2.24431828e-01  4.28663082e-02  1.61548585e-01  1.19247265e-01\n",
      "  9.10523415e-01  3.91136156e-03 -8.61912593e-02 -6.71501737e-03\n",
      "  1.25287282e+00 -6.54291585e-02  1.13453671e-01 -2.40545034e-01\n",
      "  2.23330259e-02 -1.03782803e-01 -3.03149652e-02 -2.88375169e-01\n",
      "  8.71521682e-02  1.09991267e-01 -1.10279627e-01  7.15389941e-03\n",
      "  3.18141282e-02 -1.42977273e+00  2.71611717e-02  1.19094655e-01\n",
      "  1.48415118e-01  5.74147142e-03  1.13088787e-02  1.87593177e-01\n",
      " -1.34923026e-01  4.34345528e-02  3.80922467e-01  8.44925404e-01\n",
      " -2.42843386e-02  1.29146632e-02  9.35547352e-02 -8.24601725e-02\n",
      "  2.55280975e-02  2.36358140e-02 -6.60713241e-02  1.95908919e-01\n",
      "  9.29540321e-02  2.00503729e-02 -7.72910833e-01 -6.89125657e-02\n",
      "  5.24534322e-02  1.29898459e-01 -1.83432922e-01  7.02987018e-04\n",
      "  1.20189883e-01  4.49039459e-01 -5.75139634e-02  9.88783419e-01\n",
      " -1.82599217e-01  3.34982842e-01  9.15236473e-02  3.51339504e-02\n",
      " -1.73450828e-01 -7.56505907e-01  4.78821099e-02  1.21313140e-01\n",
      "  1.28014199e-02  1.61608636e-01 -5.24526797e-02  1.25064045e-01\n",
      "  9.94112939e-02 -1.55921221e-01  1.28591824e-02 -7.85404593e-02\n",
      " -1.27498537e-01 -2.15901877e-03 -2.02736989e-01 -5.31746559e-02\n",
      "  1.79636285e-01 -7.87170604e-03 -2.68944576e-02  2.12970786e-02\n",
      " -1.80590060e-02 -1.45417126e-02  5.43336160e-02  1.43701553e-01\n",
      " -3.09763961e-02 -9.62856337e-02  1.44192725e-01 -1.45513341e-01\n",
      "  3.68091092e-03  1.07930869e-01  5.75023256e-02  7.66619444e-02\n",
      "  7.33582020e-01  8.49281326e-02 -2.30500266e-01 -1.66740999e-01\n",
      " -4.66938496e-01 -8.17125663e-03  2.55209535e-01  1.82968110e-01\n",
      "  2.15869211e-02 -1.64425477e-01  1.17804386e-01  1.03665628e-02\n",
      "  1.06116526e-01  3.89444917e-01 -2.35127583e-01 -5.07686362e-02\n",
      " -3.94657776e-02 -2.19101191e-01  1.34746181e-02  7.20163435e-02\n",
      " -9.92344022e-01  8.21149163e-03  5.51496446e-03 -3.83594818e-02\n",
      " -4.11436766e-01 -2.37737130e-02  3.09958141e-02  4.95686941e-02\n",
      " -9.54787806e-02  5.52049614e-02  3.37801427e-02 -1.10988200e-01\n",
      " -8.21082070e-02 -1.12220597e+00  2.98126917e-02 -6.95522353e-02\n",
      "  1.70861231e-03  1.23531662e-01  1.04001705e-02  1.14080004e-01\n",
      " -7.21816719e-02 -2.92174816e-01  4.82853949e-02 -2.55129710e-02\n",
      "  2.72990793e-01  8.88249055e-02  1.16394730e-02 -7.95536786e-02\n",
      "  1.08664468e-01 -3.02440315e-01  7.99797699e-02 -8.23115408e-02\n",
      "  2.50214607e-01 -1.72478944e-01  1.31242901e-01 -9.85571463e-03\n",
      " -2.01782454e-02  2.27119625e-02  2.68676337e-02 -1.20115168e-01\n",
      " -3.15359677e-03 -6.74523488e-02  1.11343436e-01 -2.44258605e-02\n",
      " -2.28813160e-02 -1.58566400e-01  4.37667081e-03  2.12329961e-02\n",
      " -1.55359089e-01  5.11956550e-02  8.38444009e-02  1.15192987e-01\n",
      " -1.76529884e-01 -2.38054506e-02 -4.99547981e-02 -3.19596797e-01\n",
      " -6.10064603e-02 -4.50915396e-02  8.63148272e-02 -1.76130056e-01\n",
      " -7.80336037e-02  8.63704383e-02 -6.94731995e-02  1.31110445e-01\n",
      " -9.99442581e-03 -2.65404657e-02 -3.08581367e-02 -8.36979151e-02\n",
      "  2.42586229e-02 -6.96325526e-02  2.03431636e-01 -2.70896964e-02\n",
      "  7.48314038e-02  6.47111833e-02 -8.24979007e-01 -5.77012934e-02\n",
      " -3.77986819e-01  4.12473343e-02  1.10533021e-01  3.62595841e-02\n",
      " -7.27786943e-02  2.91128121e-02  6.64167821e-01 -1.30187673e-03\n",
      " -6.78486004e-02  1.35712307e-02  1.25286579e-01  1.10218870e-02\n",
      " -4.98942107e-01  5.04129231e-02  1.29820466e-01 -3.16960067e-01\n",
      "  6.25337720e-01  1.11046433e-01  1.15478843e-01  1.02656305e+00\n",
      " -2.32553244e-01 -1.75861027e-02  4.99261320e-02 -1.57629810e-02\n",
      "  1.23237766e-01  9.81737766e-03 -2.28428841e-03 -3.96786213e-01\n",
      " -1.39429137e-01  5.31959906e-03 -6.92095160e-02  2.63825476e-01\n",
      " -9.35735926e-03 -3.96476164e-02 -3.21237482e-02 -2.81325188e-02\n",
      " -1.71365038e-01  5.77672422e-02  1.30421177e-01  5.48897311e-02\n",
      "  3.32887564e-03  1.01947740e-01 -3.03747952e-02  2.02947325e-04\n",
      " -2.89277919e-02 -5.61987236e-03  3.70305806e-01  2.30970141e-02\n",
      " -2.41158865e-02  3.95904094e-01  4.45605338e-01  1.98039580e-02\n",
      " -3.00564943e-03  4.54325587e-01 -5.84716685e-02 -1.06079029e-02\n",
      " -4.22837995e-02 -1.19502597e-01 -1.03445835e-01  1.86064318e-01\n",
      "  6.64552674e-02 -2.65115723e-02  1.24311462e-01  1.37013137e-01\n",
      " -1.23820938e-01 -8.02287385e-02  1.45874605e-01 -1.35093480e-02\n",
      " -1.67761110e-02  2.69481055e-02  5.44303320e-02  1.96870089e-01\n",
      "  5.14879860e-02 -8.47195387e-02  5.02168536e-02 -2.86955535e-01\n",
      " -3.08511436e-01 -4.02556062e-02 -6.90322416e-03  2.35382635e-02\n",
      "  9.16425663e-04  1.99239589e-02  1.61645487e-01 -1.53018594e-01\n",
      " -2.41077635e-02 -2.16242438e-03  1.17894620e-01  1.70371875e-01\n",
      "  1.61576465e-01  7.32491985e-02 -2.85512388e-01 -5.76902211e-01\n",
      " -7.96226114e-02 -1.70868468e-02  4.73340452e-02  4.63178009e-03\n",
      "  4.03296649e-02  7.84492940e-02  2.38406360e-01 -1.43495006e-02\n",
      " -3.33144695e-01  5.78398183e-02 -4.74450924e-03  4.74864841e-02\n",
      "  7.10004926e-01 -6.91954838e-03 -1.40607506e-02 -3.62163894e-02\n",
      "  1.69257507e-01 -8.42759088e-02  7.07639307e-02 -2.42823325e-02\n",
      " -4.68536131e-02  1.23800755e-01 -4.73798327e-02  1.61826741e-02\n",
      " -9.34012383e-02  2.53971756e-01  4.33453266e-03 -1.44092113e-01\n",
      " -1.27879739e-01 -2.60575069e-03  2.59208173e-01 -5.86271919e-02\n",
      " -2.75908485e-02 -9.60716158e-02 -5.73309362e-02  3.58930416e-02\n",
      " -3.67921323e-01  1.36587381e-01 -1.76456630e-01  8.74445215e-03\n",
      "  1.36616424e-01  2.43298505e-02  8.41820687e-02 -3.28389078e-01\n",
      " -1.36745989e-01  1.38734013e-01  1.95372030e-02 -6.16035983e-02\n",
      " -6.83966279e-02  1.22876324e-01 -2.71570031e-02  5.58678955e-02\n",
      "  7.19808787e-03  1.13143660e-01 -2.80825868e-02 -2.59987917e-03\n",
      "  1.76417511e-02  1.93010438e-02  8.09191316e-02 -1.79147624e-04\n",
      "  2.34050453e-02  3.42727900e-02 -2.02043414e-01 -1.89334944e-01\n",
      " -6.85031712e-02  1.51457918e+00  5.01429260e-01  1.88698202e-01\n",
      " -8.30693841e-01  1.61457375e-01 -1.28227606e-01 -1.58548076e-02\n",
      " -7.76964426e-02 -4.27766517e-02  1.72159169e-02  1.72918484e-01\n",
      "  1.27612576e-01 -4.60594371e-02  1.51750088e-01  3.63995284e-02\n",
      "  4.13850337e-01  3.82399671e-02  2.23552454e-02  1.48569852e-01\n",
      "  1.26773819e-01  3.28171551e-02  6.05605915e-02 -4.32086065e-02\n",
      " -1.18752398e-01  1.88041866e-01  7.74774840e-03 -4.44561727e-02\n",
      " -6.42095953e-02  1.80256754e-01 -1.87148660e-01  6.28609657e-01\n",
      "  5.95597029e-02  2.96677679e-01  2.24797398e-01 -1.89081103e-01\n",
      "  1.31666899e-01  9.19418223e-03  4.34727920e-03 -7.30195716e-02\n",
      "  7.82505348e-02  7.39526376e-02  8.72901753e-02  2.63253991e-02\n",
      " -2.79499944e-02 -6.27031475e-02  2.69853532e-01 -1.02672584e-01\n",
      " -9.41882014e-01 -3.07369269e-02  2.78799683e-01  5.95308281e-02\n",
      "  1.88782364e-01 -1.68125391e-01 -2.50271633e-02 -1.54934511e-01\n",
      " -4.90999073e-02 -2.53872246e-01 -2.18987957e-01  4.20596488e-02\n",
      " -1.86009899e-01  7.39777368e-03 -2.14197859e-03  2.33168200e-01\n",
      "  5.06893825e-03  2.62418892e-02 -9.58542749e-02  8.68563876e-02\n",
      " -1.74995624e-02 -5.02491668e-02  2.84808725e-02  7.64614344e-02\n",
      " -6.78531080e-03  5.16421944e-02  3.09694111e-01 -4.98321615e-02\n",
      "  4.99878116e-02 -1.02080621e-01 -2.81103641e-01  3.08128283e-03\n",
      " -1.70372296e-02 -2.05785006e-01 -2.33952701e-03 -1.31549075e-01]\n"
     ]
    }
   ],
   "source": [
    "\n",
    "embeddings = o.last_hidden_state\n",
    "embeddings_vector = embeddings.mean(dim=1)\n",
    "embeddings_vector = embeddings_vector.squeeze().detach().numpy()\n",
    "print(embeddings_vector)"
   ]
  },
  {
   "cell_type": "code",
   "execution_count": 52,
   "metadata": {},
   "outputs": [],
   "source": [
    "#average last hiden state to get one vector per audio\n",
    "o.last_hidden_state.mean(dim=1)\n",
    "# save the tensor\n",
    "torch.save(o.last_hidden_state.mean(dim=1), 'last_hidden_state.pt')\n",
    "# load the tensor"
   ]
  },
  {
   "cell_type": "code",
   "execution_count": 57,
   "metadata": {},
   "outputs": [
    {
     "data": {
      "text/plain": [
       "torch.Size([1, 768])"
      ]
     },
     "execution_count": 57,
     "metadata": {},
     "output_type": "execute_result"
    }
   ],
   "source": [
    "\n",
    "loaded_tensor = torch.load('last_hidden_state.pt')\n",
    "# print(loaded_tensor == o.last_hidden_state.mean(dim=1))\n",
    "loaded_tensor.shape"
   ]
  },
  {
   "cell_type": "code",
   "execution_count": 41,
   "metadata": {},
   "outputs": [
    {
     "name": "stdout",
     "output_type": "stream",
     "text": [
      "tensor([[-8.1039e-02,  5.0739e-02,  6.6325e-02, -1.6748e-02,  3.3528e-02,\n",
      "         -1.1357e-01,  1.4984e-01,  4.7380e-03, -1.1530e-01, -3.3490e-01,\n",
      "         -1.3363e-01,  1.8344e-01, -3.5394e-03,  7.8034e-03, -2.2438e-01,\n",
      "         -9.2103e-02,  1.2681e-02,  3.3178e-01, -2.2763e-02, -1.2745e-01,\n",
      "         -3.6766e-02,  1.4609e-01, -3.2650e-01,  2.8819e-02, -5.2663e-02,\n",
      "          8.3013e-02, -1.9772e-01, -1.6008e-01, -7.9695e-02, -1.4058e-01,\n",
      "          5.7635e-02, -1.2518e-02, -4.6876e-02, -6.5625e-02, -1.0441e-01,\n",
      "         -3.2995e-01,  2.1030e-01, -3.4502e-01, -1.6732e-02,  6.1099e-02,\n",
      "         -1.2270e-01,  3.5582e-01,  1.4379e-01,  1.5299e-01,  2.6159e-02,\n",
      "          5.8026e-01, -5.3302e-02,  6.7563e-02,  1.8974e-02,  3.0285e-02,\n",
      "         -1.5970e-01, -1.2047e-01,  9.6122e-02, -4.6082e-02, -4.3417e-02,\n",
      "          8.0513e-02, -1.4142e-01, -3.5688e-01,  2.4627e-02, -1.6359e-01,\n",
      "          1.0078e-01, -1.7222e-01,  2.0598e-02,  1.8582e-01, -4.7094e-02,\n",
      "          3.3535e-02, -8.3902e-03, -7.2553e-02, -3.0360e-02, -3.4678e-02,\n",
      "         -1.4493e-02, -2.9024e-02,  9.9369e-02, -9.3000e-03, -9.9444e-02,\n",
      "          2.1951e-01,  4.2870e-02,  3.2416e-02,  5.5219e-02, -2.0798e-01,\n",
      "          1.5023e-01, -2.8429e-01, -3.9344e-02,  3.7487e-01, -3.4064e-02,\n",
      "          4.3897e-02,  6.4087e-02, -1.7697e-01, -2.4357e-02,  5.9168e-02,\n",
      "          3.6345e-01, -2.9559e-01,  1.5030e-01,  4.4065e-02,  7.5687e-02,\n",
      "          2.7352e-04,  3.5865e-01,  1.6462e-01, -1.2039e-02, -5.9894e-02,\n",
      "         -9.8987e-03,  1.4903e-01, -3.8801e-03, -2.9998e-02,  1.3241e-01,\n",
      "          1.2171e-01, -6.4774e-02,  1.6227e-01,  5.4056e-02,  1.2569e-01,\n",
      "          1.7293e-02, -1.3670e-01, -1.4377e-01, -2.2488e-02,  8.8661e-02,\n",
      "         -9.7563e-02,  6.5146e-02,  4.8200e-02,  2.9598e-03, -1.2593e-01,\n",
      "          9.9772e-02,  9.0011e-02,  1.1962e-01, -9.5982e-04, -1.5423e-01,\n",
      "         -4.0757e-02, -6.0663e-02,  3.2731e-01, -1.0393e-01,  2.3495e-01,\n",
      "         -7.4702e-02,  1.9050e-01, -2.9148e-02, -6.2425e-02, -1.6449e-01,\n",
      "         -2.3357e-02, -6.3983e-02,  1.7411e-02,  6.1156e-02, -2.0929e-01,\n",
      "          8.6183e-04, -4.2476e-02, -1.3752e-02,  7.7978e-02, -3.4325e-02,\n",
      "          8.6603e-02, -4.2705e-01, -4.9695e-02, -1.1832e-01,  3.4612e-01,\n",
      "          7.2636e-02,  6.0911e-02, -7.6958e-02, -7.9598e-02,  1.1769e-01,\n",
      "          1.7414e-02, -1.4912e-01, -3.2302e-02, -4.1458e-02, -5.1365e-02,\n",
      "         -1.3511e-01,  1.7752e-01,  9.3714e-02,  8.6099e-02,  8.1200e-02,\n",
      "         -2.4444e-02,  2.7775e-02, -4.8304e-02,  4.4083e-02,  5.0184e-02,\n",
      "          3.5882e-02, -1.0967e-01,  1.6451e-02, -3.3434e-02, -5.5688e-03,\n",
      "          1.3102e-02,  1.2646e-01, -2.5772e-02,  1.5883e-01,  4.3683e-03,\n",
      "         -8.5359e-03, -3.5183e-02, -9.6746e-02, -1.4425e-01, -3.3037e-01,\n",
      "         -3.3997e-02, -1.1663e-01, -6.1948e-03, -1.2755e-01,  6.0798e-02,\n",
      "         -3.1037e-02, -7.5124e-02, -2.1447e-02,  1.0698e-02,  2.5302e-02,\n",
      "         -3.4279e-03, -5.1443e-01,  1.8637e-02, -5.5469e-02,  7.7383e-02,\n",
      "          2.1912e-02, -7.1104e-03, -3.4876e-01,  1.7133e-01, -3.0967e-01,\n",
      "          4.4845e-02, -2.4600e-02, -7.1211e-02, -5.8256e-02,  2.8618e-01,\n",
      "         -5.9219e-02,  1.1699e-02, -7.6053e-03, -7.2153e-02,  2.8780e-02,\n",
      "         -1.0292e-01,  7.3987e-03,  7.8058e-02,  2.6722e-02, -9.2065e-03,\n",
      "          1.9153e-01, -2.8981e-02, -3.0877e-01,  1.7378e-01,  1.6850e-02,\n",
      "          6.0329e-02, -5.2920e-03,  3.6071e-01, -1.6386e-01, -1.0781e-01,\n",
      "          3.9669e-02, -2.0086e-02,  6.9569e-02, -1.0633e-01, -6.6553e-02,\n",
      "          1.1377e-03, -1.0320e-02, -2.8046e-03, -2.0558e-01,  1.2990e-02,\n",
      "          1.5908e-01, -5.6526e-01,  7.8667e-02, -4.9521e-02, -2.3154e-01,\n",
      "          2.0386e-02, -5.5420e-02,  2.1685e-01,  3.3657e-02, -8.4202e-02,\n",
      "         -2.9778e-02,  2.4032e-01, -1.9434e-01,  7.3687e-02,  8.8242e-02,\n",
      "          1.3475e-01, -3.5778e-01, -2.0715e-02,  3.3360e-02,  9.4966e-02,\n",
      "          4.1444e-02,  1.2895e-01, -8.2520e-02, -1.4633e-02, -2.2717e-01,\n",
      "          9.4432e-02, -3.6296e-02,  2.6584e-03,  1.3515e-01, -3.8266e-01,\n",
      "         -7.6887e-03,  3.7414e-01, -1.0395e-02,  1.3829e-02,  2.8629e-02,\n",
      "         -4.8366e-02, -3.7612e-02, -5.6922e-02, -8.8225e-02,  1.5886e-02,\n",
      "         -2.3075e-02, -8.2029e-03,  6.5372e-03, -1.4658e-01,  1.0449e-01,\n",
      "         -1.4134e-01, -3.9129e-01,  1.0722e-02, -4.0352e-01, -5.8862e-02,\n",
      "         -2.5297e-01,  1.6335e-01, -6.8704e-03, -5.0428e-02, -2.7769e-01,\n",
      "          5.4047e-02, -1.2856e-03,  3.1848e-02,  4.7795e-01,  8.1597e-04,\n",
      "         -2.1617e-02, -6.4124e-02, -3.9974e-02, -3.7118e-02,  1.4648e-01,\n",
      "         -3.6403e-02,  1.4822e-02, -8.6563e-02,  5.8821e-02,  1.0033e-02,\n",
      "          9.9885e-02, -2.4439e-02, -5.6578e-04,  2.6694e-01,  3.0598e-01,\n",
      "         -6.0620e-02, -1.6443e-01, -9.1271e-02, -3.6428e-02,  3.3133e-01,\n",
      "         -1.6906e-01,  1.4740e-01,  1.2668e-02, -7.5296e-02,  5.4421e-02,\n",
      "         -3.7521e-02, -7.0211e-02, -1.4968e-02, -2.5473e-02, -6.2694e-02,\n",
      "         -8.9948e-02, -3.9001e-01,  2.5944e-02,  5.6607e-02, -2.7212e-02,\n",
      "          8.2953e-02,  2.7080e-03, -1.4842e-02,  6.4376e-02, -4.9828e-02,\n",
      "          7.8040e-02,  8.1542e-02, -1.7115e-01,  2.9805e-02, -6.3019e-02,\n",
      "          3.5986e-02, -3.0879e-03,  8.1017e-02,  4.1427e-01, -5.6014e-03,\n",
      "         -5.2193e-02, -2.2443e-01,  4.5017e-01,  1.5029e-01, -1.7616e-02,\n",
      "          1.7687e-03, -2.4868e-03, -2.1783e-01, -2.0840e-02, -5.7062e-02,\n",
      "          3.8972e-01,  2.5074e-01,  3.0690e-02, -5.8090e-02, -4.4038e-02,\n",
      "         -1.5162e+00, -5.2736e-03,  4.7854e-02,  5.1105e-02,  2.4603e-02,\n",
      "         -6.6384e-02, -2.4843e-01,  2.4624e-02, -7.1045e-02,  1.6511e-01,\n",
      "          1.7474e-01, -2.9013e-01,  1.3182e-02,  9.5926e-02,  6.8320e-02,\n",
      "         -1.2894e-01, -2.2111e-01, -1.0329e-02,  1.8698e-01,  3.0882e-02,\n",
      "          7.9461e-02, -3.4211e-01, -4.9023e-02,  2.6094e-02, -2.0263e-01,\n",
      "         -4.4961e-02, -1.8891e-02, -1.1463e-01,  5.6577e-01, -1.9699e-02,\n",
      "         -5.9119e-02,  3.7878e-02, -4.0400e-01, -5.1259e-02,  8.0561e-02,\n",
      "         -6.7585e-04,  4.9930e-01, -8.6628e-03,  1.0831e-02, -2.2156e-02,\n",
      "          5.6799e-02, -9.2238e-02,  5.2492e-02,  1.1300e-01, -9.0251e-02,\n",
      "          1.9343e-02,  2.1272e-02, -1.7635e-02, -1.2089e-01,  4.4581e-02,\n",
      "          3.1879e-04,  3.7548e-01,  1.0359e-01, -2.6674e-02,  3.9022e-02,\n",
      "         -7.5460e-02,  8.1036e-03,  1.5697e-02,  3.0337e-02,  4.4295e-02,\n",
      "         -1.6326e-01,  1.0305e-01,  2.3146e-01, -6.6112e-02,  6.6284e-02,\n",
      "          6.2694e-03,  4.3310e-02,  2.1054e-01,  6.4741e-02, -3.3321e-01,\n",
      "          3.6498e-02,  2.2011e-02, -1.3771e-01, -1.2861e-01, -4.6561e-02,\n",
      "          1.2371e-01, -1.0740e-02, -3.2711e-01,  1.3120e-02, -3.4613e-02,\n",
      "          5.6813e-01,  4.3174e-02, -4.6117e-02, -1.1816e-02, -4.0609e-01,\n",
      "         -3.0144e-02,  3.9455e-01, -2.6605e-03,  1.3647e-01,  5.5193e-03,\n",
      "         -3.8352e-02, -1.5189e-01, -3.6844e-02,  2.1387e-01,  4.3576e-02,\n",
      "         -6.6275e-02,  2.2952e-02, -1.4547e-01, -7.8322e-02,  8.5845e-02,\n",
      "         -3.8645e-01, -1.8571e-02,  1.4091e-02,  7.7423e-03,  3.4581e-01,\n",
      "         -9.8333e-02,  2.5276e-01, -3.5987e-02,  2.4712e-01, -9.4088e-02,\n",
      "         -7.5675e-02,  4.3650e-01,  9.5030e-03,  3.9457e-02, -1.3764e-02,\n",
      "          5.2992e-02, -5.3648e-01,  2.0307e-01,  5.1962e-02,  2.9766e-01,\n",
      "          1.2316e-02, -1.4440e-01, -7.5606e-02,  6.9471e-02, -5.9775e-02,\n",
      "          8.1254e-03,  1.0300e-01, -7.6778e-04,  2.3013e-02,  1.1150e-02,\n",
      "         -8.9968e-02,  8.6042e-02, -5.8409e-02,  6.9181e-02,  2.8183e-02,\n",
      "          1.1242e-02, -4.3853e-02,  5.0789e-02,  2.7770e-01, -9.8117e-02,\n",
      "          2.9305e-02, -6.3626e-02, -1.3708e-01,  1.0450e-01, -7.1167e-02,\n",
      "         -5.3833e-02, -1.3750e-01, -1.0315e-01, -6.7256e-02, -7.1434e-02,\n",
      "         -1.7004e-02, -3.3175e-02,  3.6208e-02, -8.5201e-02,  1.5430e-02,\n",
      "          1.1002e-01,  1.1620e-02,  3.4932e-01, -2.4133e-02,  2.8994e-02,\n",
      "         -3.5195e-02, -3.1026e-01, -1.2241e-01,  5.1050e-02,  8.7559e-03,\n",
      "          5.4092e-02,  2.0551e-01, -5.2169e-02,  3.4380e-02, -2.3432e-01,\n",
      "         -1.4921e-02, -5.9861e-02, -4.5051e-02,  1.8826e-01, -6.4178e-02,\n",
      "          1.4221e-01, -4.1993e-02,  2.6951e-02, -1.7681e-01,  1.1329e-01,\n",
      "         -1.2967e-01, -1.2170e-02,  9.0289e-02,  3.3843e-01, -4.4259e-02,\n",
      "          6.9572e-02, -3.1519e-02,  5.7792e-02, -3.3316e-02, -1.4627e-02,\n",
      "         -4.3939e-01, -7.5307e-02,  5.4007e-03, -1.5264e-02,  4.9367e-01,\n",
      "         -8.2415e-03, -1.0417e-01,  1.5074e-02, -1.5827e-02, -6.3915e-02,\n",
      "          5.3999e-02, -2.3374e-02,  6.6578e-02, -3.7748e-02,  3.6673e-02,\n",
      "         -8.6559e-02, -4.8831e-02,  1.7872e-01, -2.3070e-02,  1.5197e-01,\n",
      "         -3.1343e-02, -4.4333e-02,  2.7711e-01,  2.2181e-01, -5.9219e-02,\n",
      "          5.2908e-02,  1.4485e-01, -1.3179e-01, -5.2776e-02,  9.6444e-02,\n",
      "         -1.2557e-01, -1.7523e-02,  5.7102e-02,  1.2632e-01,  2.0437e-02,\n",
      "         -3.1718e-01,  3.2922e-01, -1.4653e-01, -3.2277e-02,  6.3756e-02,\n",
      "         -7.3804e-02,  1.2129e-03, -4.2975e-02, -3.2519e-02, -3.1424e-02,\n",
      "          6.2042e-02, -2.9456e-02,  5.3798e-02, -1.2097e-02, -1.6413e-01,\n",
      "          9.3037e-02, -2.5824e-02,  2.1696e-01,  3.6281e-03,  3.7423e-02,\n",
      "          2.7498e-01,  1.7863e-02,  1.2336e-01, -6.9850e-02,  1.9420e-02,\n",
      "         -9.4003e-02,  1.6833e-01,  2.2890e-02, -3.9395e-01, -4.2989e-02,\n",
      "          1.7369e-02,  3.0016e-02, -2.3273e-02,  1.2978e-01, -4.4836e-04,\n",
      "          5.1447e-03,  3.2194e-01, -5.4383e-02, -1.4284e-01,  3.9533e-02,\n",
      "          5.5260e-04,  3.8515e-03,  2.2383e-01,  9.5092e-02, -1.9508e-02,\n",
      "          1.0737e-01, -3.2221e-03,  4.8224e-02,  6.6750e-02, -2.5374e-02,\n",
      "         -1.6858e-02, -6.9838e-03, -1.0063e-01, -9.4076e-03, -9.5372e-02,\n",
      "          1.4002e-01,  7.9623e-03, -1.2242e-01, -8.4316e-02, -8.9666e-02,\n",
      "          3.5315e-02,  8.8136e-03, -1.2737e-01, -4.6765e-02,  6.1238e-03,\n",
      "         -5.1989e-02,  2.1284e-02, -1.6530e-01, -8.1984e-02,  9.4540e-03,\n",
      "          3.1000e-02,  1.4844e-01, -8.8199e-02, -8.5374e-03,  2.5643e-01,\n",
      "         -9.9718e-02,  3.7519e-02, -1.5452e-01, -6.1403e-02, -4.8501e-02,\n",
      "         -3.0926e-02,  1.8691e-01, -5.3743e-02, -1.3878e-02, -2.8481e-02,\n",
      "         -2.6939e-03, -7.9657e-03, -2.4160e-02,  5.5171e-02, -8.5305e-02,\n",
      "         -1.3769e-01,  1.9214e-01, -3.0510e-01, -9.3554e-02,  4.6328e-02,\n",
      "         -1.1471e-01, -1.1537e-01,  9.3216e-02, -2.3307e-01, -6.6749e-02,\n",
      "          4.2300e-02,  2.7705e-02,  4.6915e-03,  1.5541e-04,  1.5242e-02,\n",
      "          1.1660e-01,  2.7044e-01, -7.7513e-02,  1.5568e-01, -6.3155e-02,\n",
      "          7.4805e-02, -1.9426e-02,  2.4073e-01, -1.2761e-02,  2.2409e-02,\n",
      "          9.2778e-02,  2.0256e-03, -4.1190e-02, -3.9596e-02, -4.8972e-02,\n",
      "          1.7560e-01,  4.1741e-03, -9.3102e-02,  1.7322e-01, -2.9688e-01,\n",
      "          5.2520e-01,  1.1338e-01,  5.1342e-01,  2.8190e-03, -1.4692e-01,\n",
      "          1.9148e-02, -7.1318e-02,  6.8465e-03, -7.2897e-02,  9.1365e-04,\n",
      "         -1.3772e-01,  2.6452e-01,  9.1118e-03, -6.4554e-02, -2.1627e-03,\n",
      "          2.8735e-01, -5.3413e-02, -6.8947e-02, -6.8264e-02,  2.8421e-02,\n",
      "          3.8480e-02, -4.7860e-02, -2.5610e-01, -4.2461e-02, -4.4660e-01,\n",
      "         -1.1158e-01, -8.6290e-02,  4.2334e-02,  5.4121e-02, -4.5887e-02,\n",
      "         -2.1244e-02, -3.4644e-02,  2.5035e-01, -7.2696e-02,  1.6309e-01,\n",
      "         -9.1957e-02,  4.5564e-02,  1.8695e-03, -1.0572e-01, -7.6499e-02,\n",
      "         -1.4431e-01, -1.0169e-02,  3.4177e-02,  7.1175e-02, -4.6964e-02,\n",
      "          1.1070e-01,  1.5824e-01,  2.1568e-01,  5.0218e-03, -1.3991e-02,\n",
      "          8.4414e-02, -5.0451e-02, -4.1463e-02]])\n"
     ]
    }
   ],
   "source": [
    "\n",
    "print(o.last_hidden_state.mean(dim=1))"
   ]
  },
  {
   "cell_type": "markdown",
   "metadata": {},
   "source": [
    "# U-MAP"
   ]
  },
  {
   "cell_type": "code",
   "execution_count": 79,
   "metadata": {},
   "outputs": [
    {
     "name": "stdout",
     "output_type": "stream",
     "text": [
      "Projecting to 2D with UMAP\n"
     ]
    }
   ],
   "source": [
    "#Create a numpy array with the features and project them to 2D using UMAP:\n",
    "selected_samples = pd.DataFrame()\n",
    "X = np.stack(loaded_tensor)\n",
    "print('Projecting to 2D with UMAP')\n",
    "projector = umap.UMAP()\n",
    "projected = projector.fit_transform(X)\n",
    "selected_samples['X'] = projected[:,0]\n",
    "selected_samples['Y'] = projected[:,1]\n",
    "selected_samples['mos'] = '1'"
   ]
  },
  {
   "cell_type": "code",
   "execution_count": 80,
   "metadata": {},
   "outputs": [
    {
     "data": {
      "text/plain": [
       "<matplotlib.legend.Legend at 0x7fa8313e6f10>"
      ]
     },
     "execution_count": 80,
     "metadata": {},
     "output_type": "execute_result"
    },
    {
     "data": {
      "image/png": "[encoded data removed]",
      "text/plain": [
       "<Figure size 640x480 with 1 Axes>"
      ]
     },
     "metadata": {},
     "output_type": "display_data"
    }
   ],
   "source": [
    "plt.title('2D projection of EnCodecMAE features colored by speaker')\n",
    "sns.scatterplot(data=selected_samples,x='X',y='Y',hue='mos')\n",
    "plt.legend(bbox_to_anchor=(1.05, 1), loc='upper left', borderaxespad=0)"
   ]
  },
  {
   "cell_type": "markdown",
   "metadata": {},
   "source": [
    "# wav2vec-base"
   ]
  },
  {
   "cell_type": "code",
   "execution_count": 9,
   "metadata": {},
   "outputs": [
    {
     "name": "stderr",
     "output_type": "stream",
     "text": [
      "preprocessor_config.json: 100%|██████████| 159/159 [00:00<00:00, 18.1kB/s]\n",
      "config.json: 100%|██████████| 1.84k/1.84k [00:00<00:00, 1.51MB/s]\n",
      "/home/udesa_ubuntu/tesis/.venv/lib/python3.9/site-packages/transformers/configuration_utils.py:365: UserWarning: Passing `gradient_checkpointing` to a config initialization is deprecated and will be removed in v5 Transformers. Using `model.gradient_checkpointing_enable()` instead, or if you are using the `Trainer` API, pass `gradient_checkpointing=True` in your `TrainingArguments`.\n",
      "  warnings.warn(\n",
      "pytorch_model.bin: 100%|██████████| 380M/380M [00:36<00:00, 10.4MB/s] \n",
      "Some weights of Wav2Vec2Model were not initialized from the model checkpoint at facebook/wav2vec2-base and are newly initialized: ['wav2vec2.encoder.pos_conv_embed.conv.parametrizations.weight.original0', 'wav2vec2.encoder.pos_conv_embed.conv.parametrizations.weight.original1']\n",
      "You should probably TRAIN this model on a down-stream task to be able to use it for predictions and inference.\n"
     ]
    },
    {
     "name": "stdout",
     "output_type": "stream",
     "text": [
      "odict_keys(['last_hidden_state', 'extract_features'])\n",
      "torch.Size([1, 49, 768])\n",
      "torch.Size([1, 49, 512])\n"
     ]
    }
   ],
   "source": [
    "model_name = \"facebook/wav2vec2-base\"\n",
    "feature_extractor = Wav2Vec2FeatureExtractor.from_pretrained(model_name)\n",
    "model = Wav2Vec2Model.from_pretrained(model_name)\n",
    "\n",
    "i= feature_extractor(input_audio, return_tensors=\"pt\", sampling_rate=sample_rate)\n",
    "with torch.no_grad():\n",
    "  o= model(i.input_values)\n",
    "print(o.keys())\n",
    "print(o.last_hidden_state.shape)\n",
    "print(o.extract_features.shape)"
   ]
  }
 ],
 "metadata": {
  "kernelspec": {
   "display_name": ".venv",
   "language": "python",
   "name": "python3"
  },
  "language_info": {
   "codemirror_mode": {
    "name": "ipython",
    "version": 3
   },
   "file_extension": ".py",
   "mimetype": "text/x-python",
   "name": "python",
   "nbconvert_exporter": "python",
   "pygments_lexer": "ipython3",
   "version": "3.9.15"
  }
 },
 "nbformat": 4,
 "nbformat_minor": 2
}
